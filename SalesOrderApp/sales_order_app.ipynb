{
  "nbformat": 4,
  "nbformat_minor": 0,
  "metadata": {
    "colab": {
      "name": "Untitled0.ipynb",
      "provenance": []
    },
    "kernelspec": {
      "name": "python3",
      "display_name": "Python 3"
    }
  },
  "cells": [
    {
      "cell_type": "code",
      "metadata": {
        "id": "bpomGVqtvApJ",
        "colab_type": "code",
        "colab": {}
      },
      "source": [
        "import numpy as np\n",
        "import pandas as pd\n",
        "import jaydebeapi\n",
        "import pyodbc\n",
        "from datetime import datetime, timedelta\n",
        "import plotly.graph_objects as go\n",
        "import streamlit as st\n",
        "from tensorflow.keras.models import load_model\n",
        "from sklearn.preprocessing import MinMaxScaler\n",
        "from sklearn.externals.joblib import load"
      ],
      "execution_count": 21,
      "outputs": []
    },
    {
      "cell_type": "code",
      "metadata": {
        "id": "LOPvKx7R0N3M",
        "colab_type": "code",
        "colab": {}
      },
      "source": [
        "def get_connection_jdbc():\n",
        "    conn = jaydebeapi.connect(\n",
        "        'com.netsuite.jdbc.openaccess.OpenAccessDriver',\n",
        "        \"jdbc:ns://4975572.connect.api.netsuite.com:1708;\"\n",
        "            + \"ServerDataSource=NetSuite.com;\"\n",
        "            + \"Encrypted=1;\"\n",
        "            + \"CustomProperties=(AccountID=4975572;RoleID=1022)\",\n",
        "        {'user': \"minh.le@vuanem.com\", 'password': \"BI@2023cute\"},\n",
        "        'NQjc.jar')\n",
        "    return conn"
      ],
      "execution_count": 6,
      "outputs": []
    },
    {
      "cell_type": "code",
      "metadata": {
        "id": "kEdiGfoB6hZW",
        "colab_type": "code",
        "colab": {}
      },
      "source": [
        "def get_data(conn):\n",
        "    day = (datetime.today() - timedelta(days=30)).strftime('%Y-%m-%d')\n",
        "    netsuite_query = f'''\n",
        "    SELECT\n",
        "        CAST(TRANSACTIONS.TRANDATE AS date) AS \"TRANDATE\",\n",
        "        - SUM(TRANSACTION_LINES.NET_AMOUNT) AS \"Sales Order\",\n",
        "        COUNT(DISTINCT TRANSACTIONS.TRANID) AS \"No of Trans\"\n",
        "    FROM\n",
        "        \"Vua Nem Joint Stock Company\".\"Vua Nem - Storehouse Officer\".TRANSACTION_LINES TRANSACTION_LINES\n",
        "        LEFT JOIN \"Vua Nem Joint Stock Company\".\"Vua Nem - Storehouse Officer\".TRANSACTIONS TRANSACTIONS ON TRANSACTION_LINES.TRANSACTION_ID = TRANSACTIONS.TRANSACTION_ID\n",
        "        LEFT JOIN \"Vua Nem Joint Stock Company\".\"Vua Nem - Storehouse Officer\".INVENTORY_ITEMS ON TRANSACTION_LINES.ITEM_ID = INVENTORY_ITEMS.ITEM_ID\n",
        "        LEFT JOIN \"Vua Nem Joint Stock Company\".\"Vua Nem - Storehouse Officer\".SERVICE_ITEMS ON SERVICE_ITEMS.ITEM_ID = TRANSACTION_LINES.ITEM_ID\n",
        "    WHERE\n",
        "        TRANSACTION_LINES.ACCOUNT_ID IN (480, 482, 487, 498, 505, 508, 509, 510, 511, 54, 1079, 1170)\n",
        "        AND TRANSACTIONS.TRANSACTION_TYPE IN ('Sales Order')\n",
        "        AND TRANSACTIONS.STATUS <> 'Closed'\n",
        "        AND (\n",
        "                (INVENTORY_ITEMS.DISPLAYNAME IS NOT NULL)\n",
        "                OR(SERVICE_ITEMS.ITEM_ID IN ('136263', '136264'))\n",
        "        )\n",
        "        AND TRANDATE >= '{day}'\n",
        "    GROUP BY\n",
        "        TRANSACTIONS.TRANDATE\n",
        "    ORDER BY\n",
        "        TRANSACTIONS.TRANDATE\n",
        "    '''\n",
        "    df = pd.read_sql(netsuite_query, con=conn)\n",
        "    return df"
      ],
      "execution_count": 13,
      "outputs": []
    },
    {
      "cell_type": "code",
      "metadata": {
        "id": "fO9YTXZl6uhF",
        "colab_type": "code",
        "colab": {}
      },
      "source": [
        "def get_plot(df):\n",
        "    fig = go.Figure()\n",
        "\n",
        "    fig.add_trace(\n",
        "        go.Scatter(\n",
        "            name='Today',\n",
        "            x=df['TRANDATE'][-2:],\n",
        "            y=df['Sales Order'][-2:],\n",
        "            mode='markers+lines',\n",
        "            marker={\n",
        "                'size':20,\n",
        "                'color':'red'\n",
        "            }\n",
        "        )\n",
        "    )\n",
        "\n",
        "    fig.add_trace(\n",
        "        go.Scatter(\n",
        "            name='Sales Order',\n",
        "            x=df['TRANDATE'][:-1],\n",
        "            y=df['Sales Order'][:-1],\n",
        "            mode='markers+lines',\n",
        "            marker={\n",
        "                'size':10,\n",
        "                'color':'blue'\n",
        "            }\n",
        "        )\n",
        "    )"
      ],
      "execution_count": 9,
      "outputs": []
    },
    {
      "cell_type": "code",
      "metadata": {
        "id": "k3tY_ssq7EaE",
        "colab_type": "code",
        "colab": {}
      },
      "source": [
        "def process(df):\n",
        "    today_30 = df[['Sales Order']].iloc[-31:-1,:].values\n",
        "    today_30 = today_30.reshape(-1,1)\n",
        "    sc = get_sc()\n",
        "    today_30 = sc.transform(today_30)\n",
        "    today_30 = np.reshape(today_30, (1, today_30.shape[0], today_30.shape[1]))\n",
        "    model = get_model()\n",
        "    today_pred = model.predict(today_30)\n",
        "    today_pred = sc.inverse_transform(today_pred)\n",
        "    return today_pred"
      ],
      "execution_count": 10,
      "outputs": []
    },
    {
      "cell_type": "code",
      "execution_count": 11,
      "metadata": {},
      "outputs": [],
      "source": [
        "def get_model():\n",
        "    return load_model('model')\n",
        "def get_sc():\n",
        "    return load('model/mm_scaler.bin')\n"
      ]
    },
    {
      "cell_type": "code",
      "execution_count": 14,
      "metadata": {},
      "outputs": [],
      "source": [
        "conn = get_connection_jdbc()\n",
        "df = get_data(conn)\n",
        "plot = get_plot(df)"
      ]
    },
    {
      "cell_type": "code",
      "execution_count": 22,
      "metadata": {},
      "outputs": [],
      "source": [
        "a = process(df)"
      ]
    },
    {
      "cell_type": "code",
      "execution_count": 24,
      "metadata": {},
      "outputs": [
        {
          "output_type": "execute_result",
          "data": {
            "text/plain": "array([[5.7463424e+08]], dtype=float32)"
          },
          "metadata": {},
          "execution_count": 24
        }
      ],
      "source": [
        "a"
      ]
    },
    {
      "cell_type": "code",
      "execution_count": 28,
      "metadata": {},
      "outputs": [
        {
          "output_type": "execute_result",
          "data": {
            "text/plain": "24    2020-08-25\n25    2020-08-26\n26    2020-08-27\n27    2020-08-28\n28    2020-08-29\n29    2020-08-30\nName: TRANDATE, dtype: object"
          },
          "metadata": {},
          "execution_count": 28
        }
      ],
      "source": [
        "df['TRANDATE'].iloc[-7:-1]"
      ]
    },
    {
      "cell_type": "code",
      "execution_count": 30,
      "metadata": {},
      "outputs": [
        {
          "output_type": "execute_result",
          "data": {
            "text/plain": "(30, 1)"
          },
          "metadata": {},
          "execution_count": 30
        }
      ],
      "source": [
        "df[['Sales Order']].iloc[-31:-1,:].shape"
      ]
    },
    {
      "cell_type": "code",
      "execution_count": null,
      "metadata": {},
      "outputs": [],
      "source": []
    }
  ]
}
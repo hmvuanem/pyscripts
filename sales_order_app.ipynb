{
  "nbformat": 4,
  "nbformat_minor": 0,
  "metadata": {
    "colab": {
      "name": "Untitled0.ipynb",
      "provenance": []
    },
    "kernelspec": {
      "name": "python3",
      "display_name": "Python 3"
    }
  },
  "cells": [
    {
      "cell_type": "code",
      "metadata": {
        "id": "bpomGVqtvApJ",
        "colab_type": "code",
        "colab": {}
      },
      "source": [
        "import numpy as np\n",
        "import pandas as pd\n",
        "import jaydebeapi\n",
        "import pyodbc\n",
        "from datetime import datetime, timedelta\n",
        "import plotly.graph_objects as go\n",
        "import streamlit as st"
      ],
      "execution_count": 173,
      "outputs": []
    },
    {
      "cell_type": "code",
      "metadata": {
        "id": "LOPvKx7R0N3M",
        "colab_type": "code",
        "colab": {}
      },
      "source": [
        "@st.cache\n",
        "def get_connection_jdbc():\n",
        "    conn = jaydebeapi.connect(\n",
        "        'com.netsuite.jdbc.openaccess.OpenAccessDriver',\n",
        "        \"jdbc:ns://4975572.connect.api.netsuite.com:1708;\"\n",
        "            + \"ServerDataSource=NetSuite.com;\"\n",
        "            + \"Encrypted=1;\"\n",
        "            + \"CustomProperties=(AccountID=4975572;RoleID=1022)\",\n",
        "        {'user': \"minh.le@vuanem.com\", 'password': \"BI@2023cute\"},\n",
        "        'NQjc.jar')\n",
        "    return conn"
      ],
      "execution_count": 194,
      "outputs": []
    },
    {
      "cell_type": "code",
      "metadata": {
        "id": "3SA6_pq07QSP",
        "colab_type": "code",
        "colab": {}
      },
      "source": [
        "@st.cache\n",
        "def get_connection_odbc():\n",
        "    conn = pyodbc.connect('DSN=NetSuiteML;uid=minh.le@vuanem.com;PWD=BI@2023cute')\n",
        "    return conn"
      ],
      "execution_count": 197,
      "outputs": []
    },
    {
      "cell_type": "code",
      "metadata": {
        "id": "kEdiGfoB6hZW",
        "colab_type": "code",
        "colab": {}
      },
      "source": [
        "@st.cache\n",
        "def get_data(conn):\n",
        "    day = (datetime.today() - timedelta(days=7)).strftime('%Y-%m-%d')\n",
        "    netsuite_query = f'''\n",
        "    SELECT\n",
        "        CAST(TRANSACTIONS.TRANDATE AS date) AS \"TRANDATE\",\n",
        "        - SUM(TRANSACTION_LINES.NET_AMOUNT) AS \"Sales Order\",\n",
        "        COUNT(DISTINCT TRANSACTIONS.TRANID) AS \"No of Trans\"\n",
        "    FROM\n",
        "        \"Vua Nem Joint Stock Company\".\"Vua Nem - Storehouse Officer\".TRANSACTION_LINES TRANSACTION_LINES\n",
        "        LEFT JOIN \"Vua Nem Joint Stock Company\".\"Vua Nem - Storehouse Officer\".TRANSACTIONS TRANSACTIONS ON TRANSACTION_LINES.TRANSACTION_ID = TRANSACTIONS.TRANSACTION_ID\n",
        "        LEFT JOIN \"Vua Nem Joint Stock Company\".\"Vua Nem - Storehouse Officer\".INVENTORY_ITEMS ON TRANSACTION_LINES.ITEM_ID = INVENTORY_ITEMS.ITEM_ID\n",
        "        LEFT JOIN \"Vua Nem Joint Stock Company\".\"Vua Nem - Storehouse Officer\".SERVICE_ITEMS ON SERVICE_ITEMS.ITEM_ID = TRANSACTION_LINES.ITEM_ID\n",
        "    WHERE\n",
        "        TRANSACTION_LINES.ACCOUNT_ID IN (480, 482, 487, 498, 505, 508, 509, 510, 511, 54, 1079, 1170)\n",
        "        AND TRANSACTIONS.TRANSACTION_TYPE IN ('Sales Order')\n",
        "        AND TRANSACTIONS.STATUS <> 'Closed'\n",
        "        AND (\n",
        "                (INVENTORY_ITEMS.DISPLAYNAME IS NOT NULL)\n",
        "                OR(SERVICE_ITEMS.ITEM_ID IN ('136263', '136264'))\n",
        "        )\n",
        "        AND TRANDATE >= '{today}'\n",
        "    GROUP BY\n",
        "        TRANSACTIONS.TRANDATE\n",
        "    ORDER BY\n",
        "        TRANSACTIONS.TRANDATE\n",
        "    '''\n",
        "    df = pd.read_sql(netsuite_query, con=conn)\n",
        "    return df"
      ],
      "execution_count": 195,
      "outputs": []
    },
    {
      "cell_type": "code",
      "metadata": {
        "id": "fO9YTXZl6uhF",
        "colab_type": "code",
        "colab": {}
      },
      "source": [
        "@st.cache\n",
        "def get_plot(df):\n",
        "    fig = go.Figure()\n",
        "\n",
        "    fig.add_trace(\n",
        "        go.Scatter(\n",
        "            name='Today',\n",
        "            x=df['TRANDATE'][-2:],\n",
        "            y=df['Sales Order'][-2:],\n",
        "            mode='markers+lines',\n",
        "            marker={\n",
        "                'size':20,\n",
        "                'color':'red'\n",
        "            }\n",
        "        )\n",
        "    )\n",
        "\n",
        "    fig.add_trace(\n",
        "        go.Scatter(\n",
        "            name='Sales Order',\n",
        "            x=df['TRANDATE'][:-1],\n",
        "            y=df['Sales Order'][:-1],\n",
        "            mode='markers+lines',\n",
        "            marker={\n",
        "                'size':10,\n",
        "                'color':'blue'\n",
        "            }\n",
        "        )\n",
        "    )"
      ],
      "execution_count": 196,
      "outputs": []
    },
    {
      "cell_type": "code",
      "metadata": {
        "id": "k3tY_ssq7EaE",
        "colab_type": "code",
        "colab": {}
      },
      "source": [
        ""
      ],
      "execution_count": null,
      "outputs": []
    }
  ]
}
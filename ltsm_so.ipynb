{
 "metadata": {
  "language_info": {
   "codemirror_mode": {
    "name": "ipython",
    "version": 3
   },
   "file_extension": ".py",
   "mimetype": "text/x-python",
   "name": "python",
   "nbconvert_exporter": "python",
   "pygments_lexer": "ipython3",
   "version": "3.7.7-final"
  },
  "orig_nbformat": 2,
  "kernelspec": {
   "name": "python_defaultSpec_1598265996507",
   "display_name": "Python 3.7.7 64-bit ('Anaconda3': conda)"
  }
 },
 "nbformat": 4,
 "nbformat_minor": 2,
 "cells": [
  {
   "cell_type": "code",
   "execution_count": 3,
   "metadata": {},
   "outputs": [],
   "source": [
    "import numpy as np\n",
    "import pandas as pd\n",
    "from sqlalchemy import create_engine\n",
    "import pymysql\n",
    "import pyodbc\n",
    "from sklearn.preprocessing import MinMaxScaler\n",
    "from sklearn.model_selection import train_test_split\n",
    "from tensorflow.keras.models import Sequential\n",
    "from tensorflow.keras.layers import Dense, LSTM, Dropout\n",
    "from tensorflow.keras.callbacks import EarlyStopping\n",
    "from sklearn.metrics import mean_squared_error, mean_absolute_error\n",
    "import plotly.graph_objects as go\n",
    "import matplotlib.pyplot as plt"
   ]
  },
  {
   "cell_type": "code",
   "execution_count": 4,
   "metadata": {},
   "outputs": [],
   "source": [
    "def get_netsuite(query):\n",
    "    '''\n",
    "    Query NetSuite using ODBC\n",
    "    Planning to switch to JDBC or REST API\n",
    "    '''\n",
    "    cnxn = pyodbc.connect('DSN=NetSuiteML;uid=minh.le@vuanem.com;PWD=BI@2023cute')\n",
    "    sales_order = pd.read_sql(query, cnxn)\n",
    "    print(sales_order.head())\n",
    "    return sales_order"
   ]
  },
  {
   "cell_type": "code",
   "execution_count": 5,
   "metadata": {},
   "outputs": [],
   "source": [
    "netsuite_query = '''\n",
    "    SELECT\n",
    "        CAST(TRANSACTIONS.TRANDATE AS date) AS TRANDATE,\n",
    "        - SUM(TRANSACTION_LINES.NET_AMOUNT) AS 'NET_AMOUNT'\n",
    "    FROM\n",
    "        \"Vua Nem Joint Stock Company\".\"Vua Nem - Storehouse Officer\".TRANSACTION_LINES TRANSACTION_LINES\n",
    "        LEFT JOIN \"Vua Nem Joint Stock Company\".\"Vua Nem - Storehouse Officer\".TRANSACTIONS TRANSACTIONS ON TRANSACTION_LINES.TRANSACTION_ID = TRANSACTIONS.TRANSACTION_ID\n",
    "        LEFT JOIN \"Vua Nem Joint Stock Company\".\"Vua Nem - Storehouse Officer\".INVENTORY_ITEMS ON TRANSACTION_LINES.ITEM_ID = INVENTORY_ITEMS.ITEM_ID\n",
    "        LEFT JOIN \"Vua Nem Joint Stock Company\".\"Vua Nem - Storehouse Officer\".SERVICE_ITEMS ON SERVICE_ITEMS.ITEM_ID = TRANSACTION_LINES.ITEM_ID\n",
    "    WHERE\n",
    "        TRANSACTION_LINES.ACCOUNT_ID IN (480, 482, 487, 498, 505, 508, 509, 510, 511, 54, 1079, 1170)\n",
    "        AND TRANSACTIONS.TRANSACTION_TYPE IN ('Sales Order')\n",
    "        AND TRANSACTIONS.STATUS <> 'Closed'\n",
    "        AND (\n",
    "                (INVENTORY_ITEMS.DISPLAYNAME IS NOT NULL)\n",
    "                OR(SERVICE_ITEMS.ITEM_ID IN ('136263', '136264'))\n",
    "        )\n",
    "    GROUP BY\n",
    "        TRANSACTIONS.TRANDATE\n",
    "    ORDER BY TRANSACTIONS.TRANDATE\n",
    "        '''"
   ]
  },
  {
   "cell_type": "code",
   "execution_count": 6,
   "metadata": {
    "tags": []
   },
   "outputs": [
    {
     "output_type": "stream",
     "name": "stdout",
     "text": "TRANDATE    NET_AMOUNT\n0  2018-06-26  5.077728e+06\n1  2018-06-30  2.621633e+09\n2  2018-07-01  3.523492e+08\n3  2018-07-02  3.614652e+08\n4  2018-07-03  3.742462e+08\n"
    }
   ],
   "source": [
    "df = get_netsuite(netsuite_query)"
   ]
  },
  {
   "cell_type": "code",
   "execution_count": 7,
   "metadata": {},
   "outputs": [],
   "source": [
    "df2 = df.copy()"
   ]
  },
  {
   "cell_type": "code",
   "execution_count": 8,
   "metadata": {},
   "outputs": [],
   "source": [
    "train_set = df2[['NET_AMOUNT']].iloc[:-40,:]\n",
    "test_set = df2[['NET_AMOUNT']].iloc[-40:,:]"
   ]
  },
  {
   "cell_type": "code",
   "execution_count": 9,
   "metadata": {},
   "outputs": [],
   "source": [
    "day_to_window = 30"
   ]
  },
  {
   "cell_type": "code",
   "execution_count": 10,
   "metadata": {},
   "outputs": [],
   "source": [
    "sc = MinMaxScaler(feature_range=(0,1))\n",
    "stage_train = sc.fit_transform(train_set.values.reshape(-1,1))\n",
    "X_train = []\n",
    "y_train = []\n",
    "for i in range(day_to_window, len(stage_train)):\n",
    "    X_train.append(stage_train[i-day_to_window:i, :])\n",
    "    y_train.append(stage_train[i, :])\n",
    "X_train, y_train = np.array(X_train), np.array(y_train)\n",
    "X_train = np.reshape(X_train, (X_train.shape[0], X_train.shape[1], 1))"
   ]
  },
  {
   "cell_type": "code",
   "execution_count": 11,
   "metadata": {},
   "outputs": [],
   "source": [
    "dataset_total = pd.concat((train_set, test_set), axis = 0)\n",
    "inputs = dataset_total[len(df) - len(test_set) - day_to_window:].values\n",
    "inputs = inputs.reshape(-1,1)\n",
    "inputs = sc.transform(inputs)\n",
    "X_test = []\n",
    "y_test = []\n",
    "for i in range(day_to_window, day_to_window + len(test_set)):\n",
    "    X_test.append(inputs[i-day_to_window:i, :])\n",
    "    y_test.append(inputs[i, :])\n",
    "X_test = np.array(X_test)\n",
    "y_test = np.array(y_test)\n",
    "X_test = np.reshape(X_test, (X_test.shape[0], X_test.shape[1], 1))"
   ]
  },
  {
   "cell_type": "code",
   "execution_count": 12,
   "metadata": {
    "tags": [
     "outputPrepend"
    ]
   },
   "outputs": [
    {
     "output_type": "stream",
     "name": "stdout",
     "text": " - loss: 0.0067 - mean_absolute_error: 0.0618 - val_loss: 0.0054 - val_mean_absolute_error: 0.0617\nEpoch 81/200\n23/23 [==============================] - 1s 31ms/step - loss: 0.0072 - mean_absolute_error: 0.0629 - val_loss: 0.0053 - val_mean_absolute_error: 0.0604\nEpoch 82/200\n23/23 [==============================] - 1s 29ms/step - loss: 0.0075 - mean_absolute_error: 0.0634 - val_loss: 0.0056 - val_mean_absolute_error: 0.0600\nEpoch 83/200\n23/23 [==============================] - 1s 29ms/step - loss: 0.0084 - mean_absolute_error: 0.0670 - val_loss: 0.0050 - val_mean_absolute_error: 0.0590\nEpoch 84/200\n23/23 [==============================] - 1s 30ms/step - loss: 0.0077 - mean_absolute_error: 0.0660 - val_loss: 0.0050 - val_mean_absolute_error: 0.0594\nEpoch 85/200\n23/23 [==============================] - 1s 32ms/step - loss: 0.0068 - mean_absolute_error: 0.0618 - val_loss: 0.0056 - val_mean_absolute_error: 0.0626\nEpoch 86/200\n23/23 [==============================] - 1s 30ms/step - loss: 0.0073 - mean_absolute_error: 0.0637 - val_loss: 0.0055 - val_mean_absolute_error: 0.0620\nEpoch 87/200\n23/23 [==============================] - 1s 29ms/step - loss: 0.0068 - mean_absolute_error: 0.0616 - val_loss: 0.0053 - val_mean_absolute_error: 0.0593\nEpoch 88/200\n23/23 [==============================] - 1s 30ms/step - loss: 0.0070 - mean_absolute_error: 0.0619 - val_loss: 0.0052 - val_mean_absolute_error: 0.0600\nEpoch 89/200\n23/23 [==============================] - 1s 31ms/step - loss: 0.0069 - mean_absolute_error: 0.0616 - val_loss: 0.0060 - val_mean_absolute_error: 0.0635\nEpoch 90/200\n23/23 [==============================] - 1s 30ms/step - loss: 0.0075 - mean_absolute_error: 0.0637 - val_loss: 0.0052 - val_mean_absolute_error: 0.0596\nEpoch 91/200\n23/23 [==============================] - 1s 29ms/step - loss: 0.0068 - mean_absolute_error: 0.0610 - val_loss: 0.0052 - val_mean_absolute_error: 0.0597\nEpoch 92/200\n23/23 [==============================] - 1s 30ms/step - loss: 0.0071 - mean_absolute_error: 0.0626 - val_loss: 0.0049 - val_mean_absolute_error: 0.0580\nEpoch 93/200\n23/23 [==============================] - 1s 30ms/step - loss: 0.0068 - mean_absolute_error: 0.0613 - val_loss: 0.0051 - val_mean_absolute_error: 0.0589\nEpoch 94/200\n23/23 [==============================] - 1s 29ms/step - loss: 0.0074 - mean_absolute_error: 0.0624 - val_loss: 0.0049 - val_mean_absolute_error: 0.0568\nEpoch 95/200\n23/23 [==============================] - 1s 30ms/step - loss: 0.0065 - mean_absolute_error: 0.0599 - val_loss: 0.0049 - val_mean_absolute_error: 0.0577\nEpoch 96/200\n23/23 [==============================] - 1s 32ms/step - loss: 0.0065 - mean_absolute_error: 0.0596 - val_loss: 0.0048 - val_mean_absolute_error: 0.0568\nEpoch 97/200\n23/23 [==============================] - 1s 31ms/step - loss: 0.0065 - mean_absolute_error: 0.0603 - val_loss: 0.0046 - val_mean_absolute_error: 0.0556\nEpoch 98/200\n23/23 [==============================] - 1s 29ms/step - loss: 0.0066 - mean_absolute_error: 0.0599 - val_loss: 0.0046 - val_mean_absolute_error: 0.0554\nEpoch 99/200\n23/23 [==============================] - 1s 29ms/step - loss: 0.0068 - mean_absolute_error: 0.0604 - val_loss: 0.0048 - val_mean_absolute_error: 0.0560\nEpoch 100/200\n23/23 [==============================] - 1s 30ms/step - loss: 0.0067 - mean_absolute_error: 0.0600 - val_loss: 0.0045 - val_mean_absolute_error: 0.0548\nEpoch 101/200\n23/23 [==============================] - 1s 30ms/step - loss: 0.0065 - mean_absolute_error: 0.0590 - val_loss: 0.0044 - val_mean_absolute_error: 0.0535\nEpoch 102/200\n23/23 [==============================] - 1s 29ms/step - loss: 0.0063 - mean_absolute_error: 0.0589 - val_loss: 0.0042 - val_mean_absolute_error: 0.0517\nEpoch 103/200\n23/23 [==============================] - 1s 30ms/step - loss: 0.0064 - mean_absolute_error: 0.0582 - val_loss: 0.0042 - val_mean_absolute_error: 0.0519\nEpoch 104/200\n23/23 [==============================] - 1s 32ms/step - loss: 0.0065 - mean_absolute_error: 0.0588 - val_loss: 0.0040 - val_mean_absolute_error: 0.0495\nEpoch 105/200\n23/23 [==============================] - 1s 31ms/step - loss: 0.0068 - mean_absolute_error: 0.0612 - val_loss: 0.0042 - val_mean_absolute_error: 0.0503\nEpoch 106/200\n23/23 [==============================] - 1s 32ms/step - loss: 0.0062 - mean_absolute_error: 0.0583 - val_loss: 0.0038 - val_mean_absolute_error: 0.0476\nEpoch 107/200\n23/23 [==============================] - 1s 30ms/step - loss: 0.0061 - mean_absolute_error: 0.0573 - val_loss: 0.0035 - val_mean_absolute_error: 0.0445\nEpoch 108/200\n23/23 [==============================] - 1s 30ms/step - loss: 0.0060 - mean_absolute_error: 0.0574 - val_loss: 0.0037 - val_mean_absolute_error: 0.0469\nEpoch 109/200\n23/23 [==============================] - 1s 29ms/step - loss: 0.0058 - mean_absolute_error: 0.0564 - val_loss: 0.0034 - val_mean_absolute_error: 0.0437\nEpoch 110/200\n23/23 [==============================] - 1s 30ms/step - loss: 0.0059 - mean_absolute_error: 0.0558 - val_loss: 0.0030 - val_mean_absolute_error: 0.0418\nEpoch 111/200\n23/23 [==============================] - 1s 31ms/step - loss: 0.0058 - mean_absolute_error: 0.0560 - val_loss: 0.0032 - val_mean_absolute_error: 0.0429\nEpoch 112/200\n23/23 [==============================] - 1s 30ms/step - loss: 0.0054 - mean_absolute_error: 0.0547 - val_loss: 0.0030 - val_mean_absolute_error: 0.0416\nEpoch 113/200\n23/23 [==============================] - 1s 30ms/step - loss: 0.0054 - mean_absolute_error: 0.0555 - val_loss: 0.0026 - val_mean_absolute_error: 0.0392\nEpoch 114/200\n23/23 [==============================] - 1s 30ms/step - loss: 0.0058 - mean_absolute_error: 0.0560 - val_loss: 0.0030 - val_mean_absolute_error: 0.0418\nEpoch 115/200\n23/23 [==============================] - 1s 31ms/step - loss: 0.0051 - mean_absolute_error: 0.0523 - val_loss: 0.0029 - val_mean_absolute_error: 0.0413\nEpoch 116/200\n23/23 [==============================] - 1s 30ms/step - loss: 0.0052 - mean_absolute_error: 0.0546 - val_loss: 0.0029 - val_mean_absolute_error: 0.0425\nEpoch 117/200\n23/23 [==============================] - 1s 30ms/step - loss: 0.0056 - mean_absolute_error: 0.0551 - val_loss: 0.0029 - val_mean_absolute_error: 0.0415\nEpoch 118/200\n23/23 [==============================] - 1s 30ms/step - loss: 0.0054 - mean_absolute_error: 0.0533 - val_loss: 0.0026 - val_mean_absolute_error: 0.0396\nEpoch 119/200\n23/23 [==============================] - 1s 30ms/step - loss: 0.0052 - mean_absolute_error: 0.0535 - val_loss: 0.0031 - val_mean_absolute_error: 0.0433\nEpoch 120/200\n23/23 [==============================] - 1s 30ms/step - loss: 0.0049 - mean_absolute_error: 0.0517 - val_loss: 0.0029 - val_mean_absolute_error: 0.0423\nEpoch 121/200\n23/23 [==============================] - 1s 30ms/step - loss: 0.0050 - mean_absolute_error: 0.0528 - val_loss: 0.0033 - val_mean_absolute_error: 0.0462\nEpoch 122/200\n23/23 [==============================] - 1s 30ms/step - loss: 0.0051 - mean_absolute_error: 0.0540 - val_loss: 0.0030 - val_mean_absolute_error: 0.0440\nEpoch 123/200\n23/23 [==============================] - 1s 30ms/step - loss: 0.0050 - mean_absolute_error: 0.0519 - val_loss: 0.0035 - val_mean_absolute_error: 0.0464\nEpoch 124/200\n23/23 [==============================] - 1s 32ms/step - loss: 0.0050 - mean_absolute_error: 0.0522 - val_loss: 0.0027 - val_mean_absolute_error: 0.0406\nEpoch 125/200\n23/23 [==============================] - 1s 31ms/step - loss: 0.0049 - mean_absolute_error: 0.0517 - val_loss: 0.0032 - val_mean_absolute_error: 0.0456\nEpoch 126/200\n23/23 [==============================] - 1s 32ms/step - loss: 0.0048 - mean_absolute_error: 0.0512 - val_loss: 0.0027 - val_mean_absolute_error: 0.0408\nEpoch 127/200\n23/23 [==============================] - 1s 32ms/step - loss: 0.0045 - mean_absolute_error: 0.0493 - val_loss: 0.0030 - val_mean_absolute_error: 0.0430\nEpoch 128/200\n23/23 [==============================] - 1s 31ms/step - loss: 0.0045 - mean_absolute_error: 0.0497 - val_loss: 0.0027 - val_mean_absolute_error: 0.0418\nEpoch 129/200\n23/23 [==============================] - 1s 30ms/step - loss: 0.0047 - mean_absolute_error: 0.0510 - val_loss: 0.0029 - val_mean_absolute_error: 0.0438\nEpoch 130/200\n23/23 [==============================] - 1s 31ms/step - loss: 0.0047 - mean_absolute_error: 0.0504 - val_loss: 0.0028 - val_mean_absolute_error: 0.0432\nEpoch 131/200\n23/23 [==============================] - 1s 30ms/step - loss: 0.0048 - mean_absolute_error: 0.0506 - val_loss: 0.0028 - val_mean_absolute_error: 0.0423\nEpoch 132/200\n23/23 [==============================] - 1s 30ms/step - loss: 0.0045 - mean_absolute_error: 0.0497 - val_loss: 0.0034 - val_mean_absolute_error: 0.0479\nEpoch 133/200\n23/23 [==============================] - 1s 29ms/step - loss: 0.0053 - mean_absolute_error: 0.0521 - val_loss: 0.0032 - val_mean_absolute_error: 0.0455\nEpoch 134/200\n23/23 [==============================] - 1s 30ms/step - loss: 0.0048 - mean_absolute_error: 0.0506 - val_loss: 0.0034 - val_mean_absolute_error: 0.0473\nEpoch 135/200\n23/23 [==============================] - 1s 30ms/step - loss: 0.0047 - mean_absolute_error: 0.0506 - val_loss: 0.0037 - val_mean_absolute_error: 0.0506\nEpoch 136/200\n23/23 [==============================] - 1s 29ms/step - loss: 0.0047 - mean_absolute_error: 0.0507 - val_loss: 0.0036 - val_mean_absolute_error: 0.0493\nEpoch 137/200\n23/23 [==============================] - 1s 31ms/step - loss: 0.0046 - mean_absolute_error: 0.0509 - val_loss: 0.0030 - val_mean_absolute_error: 0.0452\nEpoch 138/200\n23/23 [==============================] - 1s 31ms/step - loss: 0.0043 - mean_absolute_error: 0.0484 - val_loss: 0.0032 - val_mean_absolute_error: 0.0472\nEpoch 139/200\n23/23 [==============================] - 1s 31ms/step - loss: 0.0044 - mean_absolute_error: 0.0487 - val_loss: 0.0028 - val_mean_absolute_error: 0.0432\nEpoch 140/200\n23/23 [==============================] - 1s 31ms/step - loss: 0.0046 - mean_absolute_error: 0.0494 - val_loss: 0.0029 - val_mean_absolute_error: 0.0431\nEpoch 141/200\n23/23 [==============================] - 1s 30ms/step - loss: 0.0045 - mean_absolute_error: 0.0485 - val_loss: 0.0030 - val_mean_absolute_error: 0.0442\nEpoch 142/200\n23/23 [==============================] - 1s 31ms/step - loss: 0.0046 - mean_absolute_error: 0.0503 - val_loss: 0.0037 - val_mean_absolute_error: 0.0506\nEpoch 143/200\n23/23 [==============================] - 1s 31ms/step - loss: 0.0048 - mean_absolute_error: 0.0511 - val_loss: 0.0032 - val_mean_absolute_error: 0.0455\nEpoch 144/200\n23/23 [==============================] - 1s 32ms/step - loss: 0.0046 - mean_absolute_error: 0.0487 - val_loss: 0.0028 - val_mean_absolute_error: 0.0433\nEpoch 145/200\n23/23 [==============================] - 1s 32ms/step - loss: 0.0045 - mean_absolute_error: 0.0496 - val_loss: 0.0028 - val_mean_absolute_error: 0.0432\nEpoch 146/200\n23/23 [==============================] - 1s 31ms/step - loss: 0.0045 - mean_absolute_error: 0.0485 - val_loss: 0.0031 - val_mean_absolute_error: 0.0444\nEpoch 147/200\n23/23 [==============================] - 1s 32ms/step - loss: 0.0044 - mean_absolute_error: 0.0492 - val_loss: 0.0029 - val_mean_absolute_error: 0.0445\nEpoch 148/200\n23/23 [==============================] - 1s 33ms/step - loss: 0.0045 - mean_absolute_error: 0.0484 - val_loss: 0.0027 - val_mean_absolute_error: 0.0417\nEpoch 149/200\n23/23 [==============================] - 1s 32ms/step - loss: 0.0044 - mean_absolute_error: 0.0497 - val_loss: 0.0027 - val_mean_absolute_error: 0.0412\nEpoch 150/200\n23/23 [==============================] - 1s 32ms/step - loss: 0.0043 - mean_absolute_error: 0.0493 - val_loss: 0.0031 - val_mean_absolute_error: 0.0454\nEpoch 151/200\n23/23 [==============================] - 1s 33ms/step - loss: 0.0041 - mean_absolute_error: 0.0479 - val_loss: 0.0032 - val_mean_absolute_error: 0.0477\nEpoch 152/200\n23/23 [==============================] - 1s 32ms/step - loss: 0.0042 - mean_absolute_error: 0.0482 - val_loss: 0.0029 - val_mean_absolute_error: 0.0443\nEpoch 153/200\n23/23 [==============================] - 1s 33ms/step - loss: 0.0040 - mean_absolute_error: 0.0473 - val_loss: 0.0027 - val_mean_absolute_error: 0.0420\nEpoch 154/200\n23/23 [==============================] - 1s 31ms/step - loss: 0.0044 - mean_absolute_error: 0.0486 - val_loss: 0.0033 - val_mean_absolute_error: 0.0484\nEpoch 155/200\n23/23 [==============================] - 1s 31ms/step - loss: 0.0043 - mean_absolute_error: 0.0478 - val_loss: 0.0036 - val_mean_absolute_error: 0.0495\nEpoch 156/200\n23/23 [==============================] - 1s 33ms/step - loss: 0.0045 - mean_absolute_error: 0.0496 - val_loss: 0.0027 - val_mean_absolute_error: 0.0424\nEpoch 157/200\n23/23 [==============================] - 1s 33ms/step - loss: 0.0041 - mean_absolute_error: 0.0475 - val_loss: 0.0029 - val_mean_absolute_error: 0.0434\nEpoch 158/200\n23/23 [==============================] - 1s 31ms/step - loss: 0.0042 - mean_absolute_error: 0.0479 - val_loss: 0.0027 - val_mean_absolute_error: 0.0414\nEpoch 159/200\n23/23 [==============================] - 1s 31ms/step - loss: 0.0049 - mean_absolute_error: 0.0511 - val_loss: 0.0035 - val_mean_absolute_error: 0.0501\nEpoch 160/200\n23/23 [==============================] - 1s 31ms/step - loss: 0.0044 - mean_absolute_error: 0.0488 - val_loss: 0.0030 - val_mean_absolute_error: 0.0453\nEpoch 161/200\n23/23 [==============================] - 1s 31ms/step - loss: 0.0042 - mean_absolute_error: 0.0475 - val_loss: 0.0033 - val_mean_absolute_error: 0.0482\nEpoch 162/200\n23/23 [==============================] - 1s 32ms/step - loss: 0.0041 - mean_absolute_error: 0.0472 - val_loss: 0.0032 - val_mean_absolute_error: 0.0468\nEpoch 163/200\n23/23 [==============================] - 1s 31ms/step - loss: 0.0043 - mean_absolute_error: 0.0491 - val_loss: 0.0029 - val_mean_absolute_error: 0.0440\nEpoch 164/200\n23/23 [==============================] - 1s 31ms/step - loss: 0.0041 - mean_absolute_error: 0.0474 - val_loss: 0.0029 - val_mean_absolute_error: 0.0445\nEpoch 165/200\n23/23 [==============================] - 1s 31ms/step - loss: 0.0039 - mean_absolute_error: 0.0455 - val_loss: 0.0031 - val_mean_absolute_error: 0.0465\nEpoch 166/200\n23/23 [==============================] - 1s 31ms/step - loss: 0.0038 - mean_absolute_error: 0.0463 - val_loss: 0.0030 - val_mean_absolute_error: 0.0459\nEpoch 167/200\n23/23 [==============================] - 1s 32ms/step - loss: 0.0039 - mean_absolute_error: 0.0462 - val_loss: 0.0033 - val_mean_absolute_error: 0.0472\nEpoch 168/200\n23/23 [==============================] - 1s 32ms/step - loss: 0.0040 - mean_absolute_error: 0.0471 - val_loss: 0.0031 - val_mean_absolute_error: 0.0467\nEpoch 169/200\n23/23 [==============================] - 1s 31ms/step - loss: 0.0040 - mean_absolute_error: 0.0455 - val_loss: 0.0033 - val_mean_absolute_error: 0.0479\nEpoch 170/200\n23/23 [==============================] - 1s 31ms/step - loss: 0.0038 - mean_absolute_error: 0.0459 - val_loss: 0.0028 - val_mean_absolute_error: 0.0432\nEpoch 171/200\n23/23 [==============================] - 1s 31ms/step - loss: 0.0037 - mean_absolute_error: 0.0458 - val_loss: 0.0031 - val_mean_absolute_error: 0.0463\nEpoch 172/200\n23/23 [==============================] - 1s 32ms/step - loss: 0.0036 - mean_absolute_error: 0.0452 - val_loss: 0.0040 - val_mean_absolute_error: 0.0517\nEpoch 173/200\n23/23 [==============================] - 1s 31ms/step - loss: 0.0043 - mean_absolute_error: 0.0492 - val_loss: 0.0040 - val_mean_absolute_error: 0.0531\nEpoch 174/200\n23/23 [==============================] - 1s 30ms/step - loss: 0.0042 - mean_absolute_error: 0.0489 - val_loss: 0.0025 - val_mean_absolute_error: 0.0403\nEpoch 175/200\n23/23 [==============================] - 1s 31ms/step - loss: 0.0039 - mean_absolute_error: 0.0467 - val_loss: 0.0032 - val_mean_absolute_error: 0.0464\nEpoch 176/200\n23/23 [==============================] - 1s 30ms/step - loss: 0.0040 - mean_absolute_error: 0.0463 - val_loss: 0.0028 - val_mean_absolute_error: 0.0434\nEpoch 177/200\n23/23 [==============================] - 1s 31ms/step - loss: 0.0043 - mean_absolute_error: 0.0471 - val_loss: 0.0027 - val_mean_absolute_error: 0.0432\nEpoch 178/200\n23/23 [==============================] - 1s 32ms/step - loss: 0.0040 - mean_absolute_error: 0.0465 - val_loss: 0.0033 - val_mean_absolute_error: 0.0490\nEpoch 179/200\n23/23 [==============================] - 1s 31ms/step - loss: 0.0039 - mean_absolute_error: 0.0454 - val_loss: 0.0034 - val_mean_absolute_error: 0.0487\nEpoch 180/200\n23/23 [==============================] - 1s 32ms/step - loss: 0.0037 - mean_absolute_error: 0.0453 - val_loss: 0.0029 - val_mean_absolute_error: 0.0445\nEpoch 181/200\n23/23 [==============================] - 1s 31ms/step - loss: 0.0036 - mean_absolute_error: 0.0449 - val_loss: 0.0030 - val_mean_absolute_error: 0.0456\nEpoch 182/200\n23/23 [==============================] - 1s 31ms/step - loss: 0.0036 - mean_absolute_error: 0.0456 - val_loss: 0.0031 - val_mean_absolute_error: 0.0472\nEpoch 183/200\n23/23 [==============================] - 1s 31ms/step - loss: 0.0035 - mean_absolute_error: 0.0440 - val_loss: 0.0033 - val_mean_absolute_error: 0.0474\nEpoch 184/200\n23/23 [==============================] - 1s 31ms/step - loss: 0.0036 - mean_absolute_error: 0.0444 - val_loss: 0.0033 - val_mean_absolute_error: 0.0485\nEpoch 185/200\n23/23 [==============================] - 1s 31ms/step - loss: 0.0036 - mean_absolute_error: 0.0454 - val_loss: 0.0031 - val_mean_absolute_error: 0.0468\nEpoch 186/200\n23/23 [==============================] - 1s 32ms/step - loss: 0.0034 - mean_absolute_error: 0.0439 - val_loss: 0.0030 - val_mean_absolute_error: 0.0461\nEpoch 187/200\n23/23 [==============================] - 1s 32ms/step - loss: 0.0035 - mean_absolute_error: 0.0443 - val_loss: 0.0030 - val_mean_absolute_error: 0.0450\nEpoch 188/200\n23/23 [==============================] - 1s 31ms/step - loss: 0.0035 - mean_absolute_error: 0.0440 - val_loss: 0.0031 - val_mean_absolute_error: 0.0465\nEpoch 189/200\n23/23 [==============================] - 1s 31ms/step - loss: 0.0034 - mean_absolute_error: 0.0434 - val_loss: 0.0029 - val_mean_absolute_error: 0.0449\nEpoch 190/200\n23/23 [==============================] - 1s 31ms/step - loss: 0.0034 - mean_absolute_error: 0.0443 - val_loss: 0.0032 - val_mean_absolute_error: 0.0472\nEpoch 191/200\n23/23 [==============================] - 1s 34ms/step - loss: 0.0036 - mean_absolute_error: 0.0449 - val_loss: 0.0031 - val_mean_absolute_error: 0.0457\nEpoch 192/200\n23/23 [==============================] - 1s 33ms/step - loss: 0.0035 - mean_absolute_error: 0.0442 - val_loss: 0.0029 - val_mean_absolute_error: 0.0446\nEpoch 193/200\n23/23 [==============================] - 1s 32ms/step - loss: 0.0034 - mean_absolute_error: 0.0433 - val_loss: 0.0028 - val_mean_absolute_error: 0.0430\nEpoch 194/200\n23/23 [==============================] - 1s 31ms/step - loss: 0.0034 - mean_absolute_error: 0.0441 - val_loss: 0.0029 - val_mean_absolute_error: 0.0435\nEpoch 195/200\n23/23 [==============================] - 1s 31ms/step - loss: 0.0037 - mean_absolute_error: 0.0452 - val_loss: 0.0030 - val_mean_absolute_error: 0.0445\nEpoch 196/200\n23/23 [==============================] - 1s 32ms/step - loss: 0.0034 - mean_absolute_error: 0.0439 - val_loss: 0.0030 - val_mean_absolute_error: 0.0454\nEpoch 197/200\n23/23 [==============================] - 1s 32ms/step - loss: 0.0036 - mean_absolute_error: 0.0444 - val_loss: 0.0033 - val_mean_absolute_error: 0.0490\nEpoch 198/200\n23/23 [==============================] - 1s 31ms/step - loss: 0.0040 - mean_absolute_error: 0.0462 - val_loss: 0.0035 - val_mean_absolute_error: 0.0494\nEpoch 199/200\n23/23 [==============================] - 1s 32ms/step - loss: 0.0038 - mean_absolute_error: 0.0456 - val_loss: 0.0029 - val_mean_absolute_error: 0.0437\nEpoch 200/200\n23/23 [==============================] - 1s 31ms/step - loss: 0.0036 - mean_absolute_error: 0.0439 - val_loss: 0.0032 - val_mean_absolute_error: 0.0460\n"
    }
   ],
   "source": [
    "model = Sequential()\n",
    "\n",
    "model.add(LSTM(64, return_sequences=True, input_shape=(X_train.shape[1], 1)))\n",
    "model.add(Dropout(0.2))\n",
    "\n",
    "model.add(LSTM(64, return_sequences=True))\n",
    "model.add(Dropout(0.2))\n",
    "\n",
    "model.add(LSTM(64, return_sequences=True))\n",
    "model.add(Dropout(0.2))\n",
    "\n",
    "model.add(LSTM(64))\n",
    "model.add(Dropout(0.2))\n",
    "\n",
    "model.add(Dense(1))\n",
    "\n",
    "model.compile(optimizer = 'adam', loss = 'mean_squared_error', metrics=['mean_absolute_error'])\n",
    "\n",
    "early_stopping = EarlyStopping(monitor='loss')\n",
    "nn = model.fit(X_train, y_train, validation_data=(X_test, y_test), epochs = 200, batch_size = 32)"
   ]
  },
  {
   "cell_type": "code",
   "execution_count": 13,
   "metadata": {},
   "outputs": [
    {
     "output_type": "execute_result",
     "data": {
      "text/plain": "[<matplotlib.lines.Line2D at 0x230586f2288>]"
     },
     "metadata": {},
     "execution_count": 13
    },
    {
     "output_type": "display_data",
     "data": {
      "text/plain": "<Figure size 432x288 with 1 Axes>",
      "image/svg+xml": "<?xml version=\"1.0\" encoding=\"utf-8\" standalone=\"no\"?>\r\n<!DOCTYPE svg PUBLIC \"-//W3C//DTD SVG 1.1//EN\"\r\n  \"http://www.w3.org/Graphics/SVG/1.1/DTD/svg11.dtd\">\r\n<!-- Created with matplotlib (https://matplotlib.org/) -->\r\n<svg height=\"248.518125pt\" version=\"1.1\" viewBox=\"0 0 384.828125 248.518125\" width=\"384.828125pt\" xmlns=\"http://www.w3.org/2000/svg\" xmlns:xlink=\"http://www.w3.org/1999/xlink\">\r\n <defs>\r\n  <style type=\"text/css\">\r\n*{stroke-linecap:butt;stroke-linejoin:round;}\r\n  </style>\r\n </defs>\r\n <g id=\"figure_1\">\r\n  <g id=\"patch_1\">\r\n   <path d=\"M 0 248.518125 \r\nL 384.828125 248.518125 \r\nL 384.828125 0 \r\nL 0 0 \r\nz\r\n\" style=\"fill:none;\"/>\r\n  </g>\r\n  <g id=\"axes_1\">\r\n   <g id=\"patch_2\">\r\n    <path d=\"M 42.828125 224.64 \r\nL 377.628125 224.64 \r\nL 377.628125 7.2 \r\nL 42.828125 7.2 \r\nz\r\n\" style=\"fill:#ffffff;\"/>\r\n   </g>\r\n   <g id=\"matplotlib.axis_1\">\r\n    <g id=\"xtick_1\">\r\n     <g id=\"line2d_1\">\r\n      <defs>\r\n       <path d=\"M 0 0 \r\nL 0 3.5 \r\n\" id=\"m4d885b1427\" style=\"stroke:#000000;stroke-width:0.8;\"/>\r\n      </defs>\r\n      <g>\r\n       <use style=\"stroke:#000000;stroke-width:0.8;\" x=\"58.046307\" xlink:href=\"#m4d885b1427\" y=\"224.64\"/>\r\n      </g>\r\n     </g>\r\n     <g id=\"text_1\">\r\n      <!-- 0 -->\r\n      <defs>\r\n       <path d=\"M 31.78125 66.40625 \r\nQ 24.171875 66.40625 20.328125 58.90625 \r\nQ 16.5 51.421875 16.5 36.375 \r\nQ 16.5 21.390625 20.328125 13.890625 \r\nQ 24.171875 6.390625 31.78125 6.390625 \r\nQ 39.453125 6.390625 43.28125 13.890625 \r\nQ 47.125 21.390625 47.125 36.375 \r\nQ 47.125 51.421875 43.28125 58.90625 \r\nQ 39.453125 66.40625 31.78125 66.40625 \r\nz\r\nM 31.78125 74.21875 \r\nQ 44.046875 74.21875 50.515625 64.515625 \r\nQ 56.984375 54.828125 56.984375 36.375 \r\nQ 56.984375 17.96875 50.515625 8.265625 \r\nQ 44.046875 -1.421875 31.78125 -1.421875 \r\nQ 19.53125 -1.421875 13.0625 8.265625 \r\nQ 6.59375 17.96875 6.59375 36.375 \r\nQ 6.59375 54.828125 13.0625 64.515625 \r\nQ 19.53125 74.21875 31.78125 74.21875 \r\nz\r\n\" id=\"DejaVuSans-48\"/>\r\n      </defs>\r\n      <g transform=\"translate(54.865057 239.238437)scale(0.1 -0.1)\">\r\n       <use xlink:href=\"#DejaVuSans-48\"/>\r\n      </g>\r\n     </g>\r\n    </g>\r\n    <g id=\"xtick_2\">\r\n     <g id=\"line2d_2\">\r\n      <g>\r\n       <use style=\"stroke:#000000;stroke-width:0.8;\" x=\"96.282945\" xlink:href=\"#m4d885b1427\" y=\"224.64\"/>\r\n      </g>\r\n     </g>\r\n     <g id=\"text_2\">\r\n      <!-- 25 -->\r\n      <defs>\r\n       <path d=\"M 19.1875 8.296875 \r\nL 53.609375 8.296875 \r\nL 53.609375 0 \r\nL 7.328125 0 \r\nL 7.328125 8.296875 \r\nQ 12.9375 14.109375 22.625 23.890625 \r\nQ 32.328125 33.6875 34.8125 36.53125 \r\nQ 39.546875 41.84375 41.421875 45.53125 \r\nQ 43.3125 49.21875 43.3125 52.78125 \r\nQ 43.3125 58.59375 39.234375 62.25 \r\nQ 35.15625 65.921875 28.609375 65.921875 \r\nQ 23.96875 65.921875 18.8125 64.3125 \r\nQ 13.671875 62.703125 7.8125 59.421875 \r\nL 7.8125 69.390625 \r\nQ 13.765625 71.78125 18.9375 73 \r\nQ 24.125 74.21875 28.421875 74.21875 \r\nQ 39.75 74.21875 46.484375 68.546875 \r\nQ 53.21875 62.890625 53.21875 53.421875 \r\nQ 53.21875 48.921875 51.53125 44.890625 \r\nQ 49.859375 40.875 45.40625 35.40625 \r\nQ 44.1875 33.984375 37.640625 27.21875 \r\nQ 31.109375 20.453125 19.1875 8.296875 \r\nz\r\n\" id=\"DejaVuSans-50\"/>\r\n       <path d=\"M 10.796875 72.90625 \r\nL 49.515625 72.90625 \r\nL 49.515625 64.59375 \r\nL 19.828125 64.59375 \r\nL 19.828125 46.734375 \r\nQ 21.96875 47.46875 24.109375 47.828125 \r\nQ 26.265625 48.1875 28.421875 48.1875 \r\nQ 40.625 48.1875 47.75 41.5 \r\nQ 54.890625 34.8125 54.890625 23.390625 \r\nQ 54.890625 11.625 47.5625 5.09375 \r\nQ 40.234375 -1.421875 26.90625 -1.421875 \r\nQ 22.3125 -1.421875 17.546875 -0.640625 \r\nQ 12.796875 0.140625 7.71875 1.703125 \r\nL 7.71875 11.625 \r\nQ 12.109375 9.234375 16.796875 8.0625 \r\nQ 21.484375 6.890625 26.703125 6.890625 \r\nQ 35.15625 6.890625 40.078125 11.328125 \r\nQ 45.015625 15.765625 45.015625 23.390625 \r\nQ 45.015625 31 40.078125 35.4375 \r\nQ 35.15625 39.890625 26.703125 39.890625 \r\nQ 22.75 39.890625 18.8125 39.015625 \r\nQ 14.890625 38.140625 10.796875 36.28125 \r\nz\r\n\" id=\"DejaVuSans-53\"/>\r\n      </defs>\r\n      <g transform=\"translate(89.920445 239.238437)scale(0.1 -0.1)\">\r\n       <use xlink:href=\"#DejaVuSans-50\"/>\r\n       <use x=\"63.623047\" xlink:href=\"#DejaVuSans-53\"/>\r\n      </g>\r\n     </g>\r\n    </g>\r\n    <g id=\"xtick_3\">\r\n     <g id=\"line2d_3\">\r\n      <g>\r\n       <use style=\"stroke:#000000;stroke-width:0.8;\" x=\"134.519582\" xlink:href=\"#m4d885b1427\" y=\"224.64\"/>\r\n      </g>\r\n     </g>\r\n     <g id=\"text_3\">\r\n      <!-- 50 -->\r\n      <g transform=\"translate(128.157082 239.238437)scale(0.1 -0.1)\">\r\n       <use xlink:href=\"#DejaVuSans-53\"/>\r\n       <use x=\"63.623047\" xlink:href=\"#DejaVuSans-48\"/>\r\n      </g>\r\n     </g>\r\n    </g>\r\n    <g id=\"xtick_4\">\r\n     <g id=\"line2d_4\">\r\n      <g>\r\n       <use style=\"stroke:#000000;stroke-width:0.8;\" x=\"172.75622\" xlink:href=\"#m4d885b1427\" y=\"224.64\"/>\r\n      </g>\r\n     </g>\r\n     <g id=\"text_4\">\r\n      <!-- 75 -->\r\n      <defs>\r\n       <path d=\"M 8.203125 72.90625 \r\nL 55.078125 72.90625 \r\nL 55.078125 68.703125 \r\nL 28.609375 0 \r\nL 18.3125 0 \r\nL 43.21875 64.59375 \r\nL 8.203125 64.59375 \r\nz\r\n\" id=\"DejaVuSans-55\"/>\r\n      </defs>\r\n      <g transform=\"translate(166.39372 239.238437)scale(0.1 -0.1)\">\r\n       <use xlink:href=\"#DejaVuSans-55\"/>\r\n       <use x=\"63.623047\" xlink:href=\"#DejaVuSans-53\"/>\r\n      </g>\r\n     </g>\r\n    </g>\r\n    <g id=\"xtick_5\">\r\n     <g id=\"line2d_5\">\r\n      <g>\r\n       <use style=\"stroke:#000000;stroke-width:0.8;\" x=\"210.992858\" xlink:href=\"#m4d885b1427\" y=\"224.64\"/>\r\n      </g>\r\n     </g>\r\n     <g id=\"text_5\">\r\n      <!-- 100 -->\r\n      <defs>\r\n       <path d=\"M 12.40625 8.296875 \r\nL 28.515625 8.296875 \r\nL 28.515625 63.921875 \r\nL 10.984375 60.40625 \r\nL 10.984375 69.390625 \r\nL 28.421875 72.90625 \r\nL 38.28125 72.90625 \r\nL 38.28125 8.296875 \r\nL 54.390625 8.296875 \r\nL 54.390625 0 \r\nL 12.40625 0 \r\nz\r\n\" id=\"DejaVuSans-49\"/>\r\n      </defs>\r\n      <g transform=\"translate(201.449108 239.238437)scale(0.1 -0.1)\">\r\n       <use xlink:href=\"#DejaVuSans-49\"/>\r\n       <use x=\"63.623047\" xlink:href=\"#DejaVuSans-48\"/>\r\n       <use x=\"127.246094\" xlink:href=\"#DejaVuSans-48\"/>\r\n      </g>\r\n     </g>\r\n    </g>\r\n    <g id=\"xtick_6\">\r\n     <g id=\"line2d_6\">\r\n      <g>\r\n       <use style=\"stroke:#000000;stroke-width:0.8;\" x=\"249.229495\" xlink:href=\"#m4d885b1427\" y=\"224.64\"/>\r\n      </g>\r\n     </g>\r\n     <g id=\"text_6\">\r\n      <!-- 125 -->\r\n      <g transform=\"translate(239.685745 239.238437)scale(0.1 -0.1)\">\r\n       <use xlink:href=\"#DejaVuSans-49\"/>\r\n       <use x=\"63.623047\" xlink:href=\"#DejaVuSans-50\"/>\r\n       <use x=\"127.246094\" xlink:href=\"#DejaVuSans-53\"/>\r\n      </g>\r\n     </g>\r\n    </g>\r\n    <g id=\"xtick_7\">\r\n     <g id=\"line2d_7\">\r\n      <g>\r\n       <use style=\"stroke:#000000;stroke-width:0.8;\" x=\"287.466133\" xlink:href=\"#m4d885b1427\" y=\"224.64\"/>\r\n      </g>\r\n     </g>\r\n     <g id=\"text_7\">\r\n      <!-- 150 -->\r\n      <g transform=\"translate(277.922383 239.238437)scale(0.1 -0.1)\">\r\n       <use xlink:href=\"#DejaVuSans-49\"/>\r\n       <use x=\"63.623047\" xlink:href=\"#DejaVuSans-53\"/>\r\n       <use x=\"127.246094\" xlink:href=\"#DejaVuSans-48\"/>\r\n      </g>\r\n     </g>\r\n    </g>\r\n    <g id=\"xtick_8\">\r\n     <g id=\"line2d_8\">\r\n      <g>\r\n       <use style=\"stroke:#000000;stroke-width:0.8;\" x=\"325.702771\" xlink:href=\"#m4d885b1427\" y=\"224.64\"/>\r\n      </g>\r\n     </g>\r\n     <g id=\"text_8\">\r\n      <!-- 175 -->\r\n      <g transform=\"translate(316.159021 239.238437)scale(0.1 -0.1)\">\r\n       <use xlink:href=\"#DejaVuSans-49\"/>\r\n       <use x=\"63.623047\" xlink:href=\"#DejaVuSans-55\"/>\r\n       <use x=\"127.246094\" xlink:href=\"#DejaVuSans-53\"/>\r\n      </g>\r\n     </g>\r\n    </g>\r\n    <g id=\"xtick_9\">\r\n     <g id=\"line2d_9\">\r\n      <g>\r\n       <use style=\"stroke:#000000;stroke-width:0.8;\" x=\"363.939409\" xlink:href=\"#m4d885b1427\" y=\"224.64\"/>\r\n      </g>\r\n     </g>\r\n     <g id=\"text_9\">\r\n      <!-- 200 -->\r\n      <g transform=\"translate(354.395659 239.238437)scale(0.1 -0.1)\">\r\n       <use xlink:href=\"#DejaVuSans-50\"/>\r\n       <use x=\"63.623047\" xlink:href=\"#DejaVuSans-48\"/>\r\n       <use x=\"127.246094\" xlink:href=\"#DejaVuSans-48\"/>\r\n      </g>\r\n     </g>\r\n    </g>\r\n   </g>\r\n   <g id=\"matplotlib.axis_2\">\r\n    <g id=\"ytick_1\">\r\n     <g id=\"line2d_10\">\r\n      <defs>\r\n       <path d=\"M 0 0 \r\nL -3.5 0 \r\n\" id=\"m07a90e15e1\" style=\"stroke:#000000;stroke-width:0.8;\"/>\r\n      </defs>\r\n      <g>\r\n       <use style=\"stroke:#000000;stroke-width:0.8;\" x=\"42.828125\" xlink:href=\"#m07a90e15e1\" y=\"221.763582\"/>\r\n      </g>\r\n     </g>\r\n     <g id=\"text_10\">\r\n      <!-- 0.002 -->\r\n      <defs>\r\n       <path d=\"M 10.6875 12.40625 \r\nL 21 12.40625 \r\nL 21 0 \r\nL 10.6875 0 \r\nz\r\n\" id=\"DejaVuSans-46\"/>\r\n      </defs>\r\n      <g transform=\"translate(7.2 225.562801)scale(0.1 -0.1)\">\r\n       <use xlink:href=\"#DejaVuSans-48\"/>\r\n       <use x=\"63.623047\" xlink:href=\"#DejaVuSans-46\"/>\r\n       <use x=\"95.410156\" xlink:href=\"#DejaVuSans-48\"/>\r\n       <use x=\"159.033203\" xlink:href=\"#DejaVuSans-48\"/>\r\n       <use x=\"222.65625\" xlink:href=\"#DejaVuSans-50\"/>\r\n      </g>\r\n     </g>\r\n    </g>\r\n    <g id=\"ytick_2\">\r\n     <g id=\"line2d_11\">\r\n      <g>\r\n       <use style=\"stroke:#000000;stroke-width:0.8;\" x=\"42.828125\" xlink:href=\"#m07a90e15e1\" y=\"196.099237\"/>\r\n      </g>\r\n     </g>\r\n     <g id=\"text_11\">\r\n      <!-- 0.004 -->\r\n      <defs>\r\n       <path d=\"M 37.796875 64.3125 \r\nL 12.890625 25.390625 \r\nL 37.796875 25.390625 \r\nz\r\nM 35.203125 72.90625 \r\nL 47.609375 72.90625 \r\nL 47.609375 25.390625 \r\nL 58.015625 25.390625 \r\nL 58.015625 17.1875 \r\nL 47.609375 17.1875 \r\nL 47.609375 0 \r\nL 37.796875 0 \r\nL 37.796875 17.1875 \r\nL 4.890625 17.1875 \r\nL 4.890625 26.703125 \r\nz\r\n\" id=\"DejaVuSans-52\"/>\r\n      </defs>\r\n      <g transform=\"translate(7.2 199.898456)scale(0.1 -0.1)\">\r\n       <use xlink:href=\"#DejaVuSans-48\"/>\r\n       <use x=\"63.623047\" xlink:href=\"#DejaVuSans-46\"/>\r\n       <use x=\"95.410156\" xlink:href=\"#DejaVuSans-48\"/>\r\n       <use x=\"159.033203\" xlink:href=\"#DejaVuSans-48\"/>\r\n       <use x=\"222.65625\" xlink:href=\"#DejaVuSans-52\"/>\r\n      </g>\r\n     </g>\r\n    </g>\r\n    <g id=\"ytick_3\">\r\n     <g id=\"line2d_12\">\r\n      <g>\r\n       <use style=\"stroke:#000000;stroke-width:0.8;\" x=\"42.828125\" xlink:href=\"#m07a90e15e1\" y=\"170.434891\"/>\r\n      </g>\r\n     </g>\r\n     <g id=\"text_12\">\r\n      <!-- 0.006 -->\r\n      <defs>\r\n       <path d=\"M 33.015625 40.375 \r\nQ 26.375 40.375 22.484375 35.828125 \r\nQ 18.609375 31.296875 18.609375 23.390625 \r\nQ 18.609375 15.53125 22.484375 10.953125 \r\nQ 26.375 6.390625 33.015625 6.390625 \r\nQ 39.65625 6.390625 43.53125 10.953125 \r\nQ 47.40625 15.53125 47.40625 23.390625 \r\nQ 47.40625 31.296875 43.53125 35.828125 \r\nQ 39.65625 40.375 33.015625 40.375 \r\nz\r\nM 52.59375 71.296875 \r\nL 52.59375 62.3125 \r\nQ 48.875 64.0625 45.09375 64.984375 \r\nQ 41.3125 65.921875 37.59375 65.921875 \r\nQ 27.828125 65.921875 22.671875 59.328125 \r\nQ 17.53125 52.734375 16.796875 39.40625 \r\nQ 19.671875 43.65625 24.015625 45.921875 \r\nQ 28.375 48.1875 33.59375 48.1875 \r\nQ 44.578125 48.1875 50.953125 41.515625 \r\nQ 57.328125 34.859375 57.328125 23.390625 \r\nQ 57.328125 12.15625 50.6875 5.359375 \r\nQ 44.046875 -1.421875 33.015625 -1.421875 \r\nQ 20.359375 -1.421875 13.671875 8.265625 \r\nQ 6.984375 17.96875 6.984375 36.375 \r\nQ 6.984375 53.65625 15.1875 63.9375 \r\nQ 23.390625 74.21875 37.203125 74.21875 \r\nQ 40.921875 74.21875 44.703125 73.484375 \r\nQ 48.484375 72.75 52.59375 71.296875 \r\nz\r\n\" id=\"DejaVuSans-54\"/>\r\n      </defs>\r\n      <g transform=\"translate(7.2 174.23411)scale(0.1 -0.1)\">\r\n       <use xlink:href=\"#DejaVuSans-48\"/>\r\n       <use x=\"63.623047\" xlink:href=\"#DejaVuSans-46\"/>\r\n       <use x=\"95.410156\" xlink:href=\"#DejaVuSans-48\"/>\r\n       <use x=\"159.033203\" xlink:href=\"#DejaVuSans-48\"/>\r\n       <use x=\"222.65625\" xlink:href=\"#DejaVuSans-54\"/>\r\n      </g>\r\n     </g>\r\n    </g>\r\n    <g id=\"ytick_4\">\r\n     <g id=\"line2d_13\">\r\n      <g>\r\n       <use style=\"stroke:#000000;stroke-width:0.8;\" x=\"42.828125\" xlink:href=\"#m07a90e15e1\" y=\"144.770546\"/>\r\n      </g>\r\n     </g>\r\n     <g id=\"text_13\">\r\n      <!-- 0.008 -->\r\n      <defs>\r\n       <path d=\"M 31.78125 34.625 \r\nQ 24.75 34.625 20.71875 30.859375 \r\nQ 16.703125 27.09375 16.703125 20.515625 \r\nQ 16.703125 13.921875 20.71875 10.15625 \r\nQ 24.75 6.390625 31.78125 6.390625 \r\nQ 38.8125 6.390625 42.859375 10.171875 \r\nQ 46.921875 13.96875 46.921875 20.515625 \r\nQ 46.921875 27.09375 42.890625 30.859375 \r\nQ 38.875 34.625 31.78125 34.625 \r\nz\r\nM 21.921875 38.8125 \r\nQ 15.578125 40.375 12.03125 44.71875 \r\nQ 8.5 49.078125 8.5 55.328125 \r\nQ 8.5 64.0625 14.71875 69.140625 \r\nQ 20.953125 74.21875 31.78125 74.21875 \r\nQ 42.671875 74.21875 48.875 69.140625 \r\nQ 55.078125 64.0625 55.078125 55.328125 \r\nQ 55.078125 49.078125 51.53125 44.71875 \r\nQ 48 40.375 41.703125 38.8125 \r\nQ 48.828125 37.15625 52.796875 32.3125 \r\nQ 56.78125 27.484375 56.78125 20.515625 \r\nQ 56.78125 9.90625 50.3125 4.234375 \r\nQ 43.84375 -1.421875 31.78125 -1.421875 \r\nQ 19.734375 -1.421875 13.25 4.234375 \r\nQ 6.78125 9.90625 6.78125 20.515625 \r\nQ 6.78125 27.484375 10.78125 32.3125 \r\nQ 14.796875 37.15625 21.921875 38.8125 \r\nz\r\nM 18.3125 54.390625 \r\nQ 18.3125 48.734375 21.84375 45.5625 \r\nQ 25.390625 42.390625 31.78125 42.390625 \r\nQ 38.140625 42.390625 41.71875 45.5625 \r\nQ 45.3125 48.734375 45.3125 54.390625 \r\nQ 45.3125 60.0625 41.71875 63.234375 \r\nQ 38.140625 66.40625 31.78125 66.40625 \r\nQ 25.390625 66.40625 21.84375 63.234375 \r\nQ 18.3125 60.0625 18.3125 54.390625 \r\nz\r\n\" id=\"DejaVuSans-56\"/>\r\n      </defs>\r\n      <g transform=\"translate(7.2 148.569765)scale(0.1 -0.1)\">\r\n       <use xlink:href=\"#DejaVuSans-48\"/>\r\n       <use x=\"63.623047\" xlink:href=\"#DejaVuSans-46\"/>\r\n       <use x=\"95.410156\" xlink:href=\"#DejaVuSans-48\"/>\r\n       <use x=\"159.033203\" xlink:href=\"#DejaVuSans-48\"/>\r\n       <use x=\"222.65625\" xlink:href=\"#DejaVuSans-56\"/>\r\n      </g>\r\n     </g>\r\n    </g>\r\n    <g id=\"ytick_5\">\r\n     <g id=\"line2d_14\">\r\n      <g>\r\n       <use style=\"stroke:#000000;stroke-width:0.8;\" x=\"42.828125\" xlink:href=\"#m07a90e15e1\" y=\"119.106201\"/>\r\n      </g>\r\n     </g>\r\n     <g id=\"text_14\">\r\n      <!-- 0.010 -->\r\n      <g transform=\"translate(7.2 122.905419)scale(0.1 -0.1)\">\r\n       <use xlink:href=\"#DejaVuSans-48\"/>\r\n       <use x=\"63.623047\" xlink:href=\"#DejaVuSans-46\"/>\r\n       <use x=\"95.410156\" xlink:href=\"#DejaVuSans-48\"/>\r\n       <use x=\"159.033203\" xlink:href=\"#DejaVuSans-49\"/>\r\n       <use x=\"222.65625\" xlink:href=\"#DejaVuSans-48\"/>\r\n      </g>\r\n     </g>\r\n    </g>\r\n    <g id=\"ytick_6\">\r\n     <g id=\"line2d_15\">\r\n      <g>\r\n       <use style=\"stroke:#000000;stroke-width:0.8;\" x=\"42.828125\" xlink:href=\"#m07a90e15e1\" y=\"93.441855\"/>\r\n      </g>\r\n     </g>\r\n     <g id=\"text_15\">\r\n      <!-- 0.012 -->\r\n      <g transform=\"translate(7.2 97.241074)scale(0.1 -0.1)\">\r\n       <use xlink:href=\"#DejaVuSans-48\"/>\r\n       <use x=\"63.623047\" xlink:href=\"#DejaVuSans-46\"/>\r\n       <use x=\"95.410156\" xlink:href=\"#DejaVuSans-48\"/>\r\n       <use x=\"159.033203\" xlink:href=\"#DejaVuSans-49\"/>\r\n       <use x=\"222.65625\" xlink:href=\"#DejaVuSans-50\"/>\r\n      </g>\r\n     </g>\r\n    </g>\r\n    <g id=\"ytick_7\">\r\n     <g id=\"line2d_16\">\r\n      <g>\r\n       <use style=\"stroke:#000000;stroke-width:0.8;\" x=\"42.828125\" xlink:href=\"#m07a90e15e1\" y=\"67.77751\"/>\r\n      </g>\r\n     </g>\r\n     <g id=\"text_16\">\r\n      <!-- 0.014 -->\r\n      <g transform=\"translate(7.2 71.576729)scale(0.1 -0.1)\">\r\n       <use xlink:href=\"#DejaVuSans-48\"/>\r\n       <use x=\"63.623047\" xlink:href=\"#DejaVuSans-46\"/>\r\n       <use x=\"95.410156\" xlink:href=\"#DejaVuSans-48\"/>\r\n       <use x=\"159.033203\" xlink:href=\"#DejaVuSans-49\"/>\r\n       <use x=\"222.65625\" xlink:href=\"#DejaVuSans-52\"/>\r\n      </g>\r\n     </g>\r\n    </g>\r\n    <g id=\"ytick_8\">\r\n     <g id=\"line2d_17\">\r\n      <g>\r\n       <use style=\"stroke:#000000;stroke-width:0.8;\" x=\"42.828125\" xlink:href=\"#m07a90e15e1\" y=\"42.113164\"/>\r\n      </g>\r\n     </g>\r\n     <g id=\"text_17\">\r\n      <!-- 0.016 -->\r\n      <g transform=\"translate(7.2 45.912383)scale(0.1 -0.1)\">\r\n       <use xlink:href=\"#DejaVuSans-48\"/>\r\n       <use x=\"63.623047\" xlink:href=\"#DejaVuSans-46\"/>\r\n       <use x=\"95.410156\" xlink:href=\"#DejaVuSans-48\"/>\r\n       <use x=\"159.033203\" xlink:href=\"#DejaVuSans-49\"/>\r\n       <use x=\"222.65625\" xlink:href=\"#DejaVuSans-54\"/>\r\n      </g>\r\n     </g>\r\n    </g>\r\n    <g id=\"ytick_9\">\r\n     <g id=\"line2d_18\">\r\n      <g>\r\n       <use style=\"stroke:#000000;stroke-width:0.8;\" x=\"42.828125\" xlink:href=\"#m07a90e15e1\" y=\"16.448819\"/>\r\n      </g>\r\n     </g>\r\n     <g id=\"text_18\">\r\n      <!-- 0.018 -->\r\n      <g transform=\"translate(7.2 20.248038)scale(0.1 -0.1)\">\r\n       <use xlink:href=\"#DejaVuSans-48\"/>\r\n       <use x=\"63.623047\" xlink:href=\"#DejaVuSans-46\"/>\r\n       <use x=\"95.410156\" xlink:href=\"#DejaVuSans-48\"/>\r\n       <use x=\"159.033203\" xlink:href=\"#DejaVuSans-49\"/>\r\n       <use x=\"222.65625\" xlink:href=\"#DejaVuSans-56\"/>\r\n      </g>\r\n     </g>\r\n    </g>\r\n   </g>\r\n   <g id=\"line2d_19\">\r\n    <path clip-path=\"url(#pefdf53d994)\" d=\"M 58.046307 17.083636 \r\nL 59.575772 105.037159 \r\nL 61.105238 113.893917 \r\nL 62.634703 112.111573 \r\nL 64.164169 107.863868 \r\nL 65.693634 117.817001 \r\nL 67.2231 107.12051 \r\nL 68.752565 118.89766 \r\nL 70.282031 114.456052 \r\nL 73.340962 120.554891 \r\nL 74.870427 113.101466 \r\nL 76.399893 111.862373 \r\nL 77.929358 109.476414 \r\nL 79.458824 122.747258 \r\nL 80.988289 121.904385 \r\nL 82.517755 119.732789 \r\nL 84.04722 123.862969 \r\nL 85.576686 123.899658 \r\nL 87.106151 124.672451 \r\nL 88.635617 122.36863 \r\nL 90.165083 130.354252 \r\nL 91.694548 125.678656 \r\nL 93.224014 126.983837 \r\nL 94.753479 128.063564 \r\nL 96.282945 124.024868 \r\nL 97.81241 128.042256 \r\nL 99.341876 125.407706 \r\nL 100.871341 120.672165 \r\nL 102.400807 125.602673 \r\nL 103.930272 134.200288 \r\nL 105.459738 134.350068 \r\nL 106.989203 132.005913 \r\nL 108.518669 133.85523 \r\nL 110.048134 134.244745 \r\nL 111.5776 135.577066 \r\nL 113.107065 134.349686 \r\nL 114.636531 136.151092 \r\nL 116.165996 131.651306 \r\nL 117.695462 138.576023 \r\nL 119.224927 135.024326 \r\nL 120.754393 135.491546 \r\nL 122.283858 131.570864 \r\nL 123.813324 135.292289 \r\nL 125.342789 140.787859 \r\nL 126.872255 144.775668 \r\nL 128.40172 133.90442 \r\nL 129.931186 134.742309 \r\nL 131.460651 135.22908 \r\nL 132.990117 141.138629 \r\nL 134.519582 137.530189 \r\nL 136.049048 148.524764 \r\nL 137.578513 147.482288 \r\nL 139.107979 140.733135 \r\nL 140.637444 140.216307 \r\nL 142.16691 137.382225 \r\nL 143.696375 139.889498 \r\nL 145.225841 144.691773 \r\nL 146.755306 147.404291 \r\nL 148.284772 143.993255 \r\nL 149.814237 144.614211 \r\nL 151.343703 143.871404 \r\nL 152.873168 148.26442 \r\nL 154.402634 149.257539 \r\nL 155.932099 152.670547 \r\nL 157.461565 147.821287 \r\nL 158.99103 155.510605 \r\nL 160.520496 144.495001 \r\nL 162.049961 146.734634 \r\nL 163.579427 149.407947 \r\nL 165.108892 152.344789 \r\nL 166.638358 149.957025 \r\nL 168.167823 149.085739 \r\nL 169.697289 149.196823 \r\nL 171.226755 155.501193 \r\nL 172.75622 150.034515 \r\nL 174.285686 153.114821 \r\nL 175.815151 154.841104 \r\nL 177.344617 152.448123 \r\nL 178.874082 161.360811 \r\nL 180.403548 155.459712 \r\nL 181.933013 151.416343 \r\nL 183.462479 140.025595 \r\nL 184.991944 149.227632 \r\nL 186.52141 159.70327 \r\nL 188.050875 154.000466 \r\nL 189.580341 159.806192 \r\nL 191.109806 157.975476 \r\nL 192.639272 158.593893 \r\nL 194.168737 151.036926 \r\nL 195.698203 159.779858 \r\nL 197.227668 156.393047 \r\nL 198.757134 159.958398 \r\nL 200.286599 152.867211 \r\nL 201.816065 163.978081 \r\nL 203.34553 164.004391 \r\nL 206.404461 162.968093 \r\nL 207.933927 160.66993 \r\nL 209.463392 161.732365 \r\nL 210.992858 164.491419 \r\nL 212.522323 166.863779 \r\nL 214.051789 165.099355 \r\nL 215.581254 163.617498 \r\nL 217.11072 160.37699 \r\nL 218.640185 167.469325 \r\nL 220.169651 168.757475 \r\nL 223.228582 173.161098 \r\nL 224.758047 172.236207 \r\nL 226.287513 172.793381 \r\nL 227.816978 177.541979 \r\nL 229.346444 177.566454 \r\nL 230.875909 173.219801 \r\nL 232.405375 182.252919 \r\nL 233.93484 181.020686 \r\nL 235.464306 175.141911 \r\nL 236.993771 178.534255 \r\nL 238.523237 181.329539 \r\nL 240.052702 184.763676 \r\nL 241.582168 182.646031 \r\nL 243.111633 181.774333 \r\nL 244.641099 182.869322 \r\nL 246.170564 183.783703 \r\nL 247.70003 184.030638 \r\nL 249.229495 185.510182 \r\nL 250.758961 189.050771 \r\nL 252.288427 189.500047 \r\nL 253.817892 187.051375 \r\nL 255.347358 187.290489 \r\nL 256.876823 186.452928 \r\nL 258.406289 190.131712 \r\nL 259.935754 178.889759 \r\nL 261.46522 186.395678 \r\nL 262.994685 187.691644 \r\nL 264.524151 187.391205 \r\nL 266.053616 187.860074 \r\nL 267.583082 192.62232 \r\nL 269.112547 190.420194 \r\nL 270.642013 188.020885 \r\nL 272.171478 189.811171 \r\nL 273.700944 188.264439 \r\nL 275.230409 186.348256 \r\nL 276.759875 188.615669 \r\nL 278.28934 189.885464 \r\nL 281.348271 190.636804 \r\nL 282.877737 190.019792 \r\nL 284.407202 190.423206 \r\nL 285.936668 192.689752 \r\nL 287.466133 194.255248 \r\nL 288.995599 193.775957 \r\nL 290.525064 195.725906 \r\nL 292.05453 191.413618 \r\nL 293.583995 192.584734 \r\nL 295.113461 189.181168 \r\nL 296.642926 194.315946 \r\nL 298.172392 193.10023 \r\nL 299.701857 184.283608 \r\nL 301.231323 191.014626 \r\nL 302.760788 193.90805 \r\nL 304.290254 194.255702 \r\nL 305.819719 192.248753 \r\nL 307.349185 194.919024 \r\nL 308.87865 197.904805 \r\nL 310.408116 198.159873 \r\nL 311.937581 197.977475 \r\nL 313.467047 196.075858 \r\nL 314.996512 196.497181 \r\nL 316.525978 198.989522 \r\nL 318.055443 199.36671 \r\nL 319.584909 200.816234 \r\nL 321.114374 191.922923 \r\nL 322.64384 193.39372 \r\nL 324.173305 197.376068 \r\nL 325.702771 196.080525 \r\nL 327.232236 192.816175 \r\nL 328.761702 196.258988 \r\nL 330.291167 197.953033 \r\nL 331.820633 199.865113 \r\nL 333.350099 200.706602 \r\nL 334.879564 200.908509 \r\nL 336.40903 202.411032 \r\nL 337.938495 201.319055 \r\nL 339.467961 200.736817 \r\nL 340.997426 203.637412 \r\nL 342.526892 202.036046 \r\nL 344.056357 202.915623 \r\nL 345.585823 203.429341 \r\nL 347.115288 203.810577 \r\nL 348.644754 201.018452 \r\nL 351.703685 203.609563 \r\nL 353.23315 204.117817 \r\nL 354.762616 199.760955 \r\nL 356.292081 203.315341 \r\nL 357.821547 201.54277 \r\nL 359.351012 195.600936 \r\nL 360.880478 198.865758 \r\nL 362.409943 201.606537 \r\nL 362.409943 201.606537 \r\n\" style=\"fill:none;stroke:#1f77b4;stroke-linecap:square;stroke-width:1.5;\"/>\r\n   </g>\r\n   <g id=\"line2d_20\">\r\n    <path clip-path=\"url(#pefdf53d994)\" d=\"M 58.046307 179.558321 \r\nL 59.575772 187.792653 \r\nL 61.105238 148.430962 \r\nL 62.634703 184.287917 \r\nL 64.164169 179.743943 \r\nL 65.693634 175.909636 \r\nL 67.2231 185.606459 \r\nL 68.752565 185.162304 \r\nL 70.282031 180.354944 \r\nL 71.811496 179.680818 \r\nL 73.340962 186.177885 \r\nL 74.870427 169.596087 \r\nL 76.399893 182.274448 \r\nL 77.929358 186.208688 \r\nL 79.458824 182.034307 \r\nL 80.988289 183.243713 \r\nL 82.517755 181.731268 \r\nL 84.04722 184.887612 \r\nL 85.576686 185.47023 \r\nL 87.106151 185.159298 \r\nL 88.635617 184.257968 \r\nL 90.165083 183.741821 \r\nL 91.694548 179.902328 \r\nL 93.224014 172.094726 \r\nL 94.753479 180.854437 \r\nL 96.282945 178.989052 \r\nL 97.81241 176.902224 \r\nL 99.341876 163.779845 \r\nL 100.871341 163.265413 \r\nL 102.400807 178.908509 \r\nL 103.930272 168.943372 \r\nL 105.459738 173.902191 \r\nL 106.989203 177.01164 \r\nL 108.518669 173.88598 \r\nL 110.048134 174.988461 \r\nL 111.5776 176.952501 \r\nL 113.107065 174.995017 \r\nL 114.636531 174.308163 \r\nL 116.165996 175.54796 \r\nL 117.695462 175.160991 \r\nL 119.224927 175.008091 \r\nL 120.754393 169.024381 \r\nL 122.283858 174.633622 \r\nL 123.813324 168.342128 \r\nL 125.342789 175.540981 \r\nL 128.40172 163.768348 \r\nL 129.931186 176.976618 \r\nL 131.460651 175.201277 \r\nL 132.990117 175.199699 \r\nL 134.519582 175.936484 \r\nL 136.049048 174.216028 \r\nL 137.578513 174.462168 \r\nL 139.107979 178.444522 \r\nL 140.637444 175.924378 \r\nL 142.16691 171.187068 \r\nL 143.696375 174.106151 \r\nL 145.225841 174.923568 \r\nL 146.755306 175.266236 \r\nL 148.284772 175.175595 \r\nL 149.814237 174.132246 \r\nL 151.343703 175.390776 \r\nL 152.873168 175.393716 \r\nL 154.402634 175.582355 \r\nL 155.932099 176.444349 \r\nL 157.461565 176.344595 \r\nL 158.99103 177.792057 \r\nL 160.520496 177.702999 \r\nL 162.049961 176.410432 \r\nL 163.579427 175.918695 \r\nL 165.108892 175.932439 \r\nL 166.638358 177.338969 \r\nL 168.167823 169.623186 \r\nL 169.697289 176.778108 \r\nL 171.226755 176.784017 \r\nL 172.75622 177.444131 \r\nL 174.285686 179.052129 \r\nL 175.815151 175.813653 \r\nL 178.874082 178.154707 \r\nL 180.403548 180.039972 \r\nL 181.933013 175.728449 \r\nL 183.462479 183.387429 \r\nL 184.991944 182.698609 \r\nL 186.52141 175.517318 \r\nL 188.050875 176.904423 \r\nL 189.580341 179.294619 \r\nL 191.109806 180.381558 \r\nL 192.639272 170.948223 \r\nL 194.168737 181.125442 \r\nL 195.698203 180.274251 \r\nL 197.227668 184.197825 \r\nL 198.757134 181.554574 \r\nL 200.286599 184.930785 \r\nL 201.816065 184.540887 \r\nL 203.34553 185.86418 \r\nL 204.874996 187.768124 \r\nL 206.404461 187.932622 \r\nL 207.933927 185.448241 \r\nL 209.463392 189.468395 \r\nL 210.992858 190.954614 \r\nL 212.522323 193.747544 \r\nL 214.051789 193.116584 \r\nL 215.581254 195.729946 \r\nL 217.11072 193.75031 \r\nL 218.640185 198.949851 \r\nL 220.169651 203.006324 \r\nL 221.699116 199.972713 \r\nL 224.758047 208.343605 \r\nL 226.287513 206.899734 \r\nL 227.816978 208.817711 \r\nL 229.346444 213.832602 \r\nL 230.875909 209.088946 \r\nL 232.405375 210.449044 \r\nL 233.93484 209.878774 \r\nL 235.464306 210.493322 \r\nL 236.993771 213.991226 \r\nL 238.523237 207.930364 \r\nL 240.052702 210.781727 \r\nL 241.582168 204.490828 \r\nL 243.111633 208.537603 \r\nL 244.641099 202.410847 \r\nL 246.170564 212.480086 \r\nL 247.70003 206.966859 \r\nL 249.229495 213.371399 \r\nL 250.758961 208.591481 \r\nL 252.288427 212.40234 \r\nL 253.817892 210.197337 \r\nL 255.347358 211.049812 \r\nL 256.876823 211.476388 \r\nL 258.406289 203.308168 \r\nL 259.935754 206.18997 \r\nL 261.46522 204.320453 \r\nL 262.994685 200.400737 \r\nL 264.524151 201.619232 \r\nL 266.053616 208.57783 \r\nL 267.583082 206.269336 \r\nL 269.112547 210.977049 \r\nL 270.642013 209.637259 \r\nL 272.171478 209.306165 \r\nL 273.700944 200.291975 \r\nL 275.230409 206.76626 \r\nL 276.759875 210.945636 \r\nL 278.28934 211.483271 \r\nL 279.818806 207.530857 \r\nL 281.348271 210.185808 \r\nL 282.877737 212.193967 \r\nL 284.407202 213.232876 \r\nL 285.936668 207.807499 \r\nL 287.466133 205.834682 \r\nL 288.995599 209.932267 \r\nL 290.525064 212.345902 \r\nL 292.05453 204.57841 \r\nL 293.583995 201.421519 \r\nL 295.113461 212.411294 \r\nL 296.642926 209.662502 \r\nL 298.172392 212.619383 \r\nL 299.701857 202.378448 \r\nL 301.231323 208.354295 \r\nL 302.760788 205.220024 \r\nL 304.290254 206.752923 \r\nL 305.819719 210.174344 \r\nL 307.349185 210.326407 \r\nL 308.87865 207.487496 \r\nL 310.408116 208.583623 \r\nL 311.937581 205.098528 \r\nL 313.467047 207.944678 \r\nL 314.996512 205.042311 \r\nL 316.525978 211.034584 \r\nL 318.055443 207.35445 \r\nL 319.584909 195.539592 \r\nL 321.114374 195.986932 \r\nL 322.64384 214.756364 \r\nL 324.173305 206.840412 \r\nL 325.702771 211.44772 \r\nL 327.232236 212.285786 \r\nL 328.761702 204.906158 \r\nL 330.291167 203.555883 \r\nL 331.820633 210.474873 \r\nL 333.350099 208.490514 \r\nL 336.40903 205.616823 \r\nL 337.938495 205.408442 \r\nL 339.467961 207.762561 \r\nL 340.997426 208.302027 \r\nL 342.526892 209.072552 \r\nL 344.056357 207.441922 \r\nL 345.585823 209.818978 \r\nL 347.115288 206.573056 \r\nL 348.644754 207.23299 \r\nL 350.174219 209.78098 \r\nL 351.703685 211.230558 \r\nL 353.23315 210.504559 \r\nL 356.292081 208.387769 \r\nL 357.821547 204.447721 \r\nL 359.351012 202.900299 \r\nL 360.880478 210.701955 \r\nL 362.409943 205.852513 \r\nL 362.409943 205.852513 \r\n\" style=\"fill:none;stroke:#bfbf00;stroke-linecap:square;stroke-width:1.5;\"/>\r\n   </g>\r\n   <g id=\"patch_3\">\r\n    <path d=\"M 42.828125 224.64 \r\nL 42.828125 7.2 \r\n\" style=\"fill:none;stroke:#000000;stroke-linecap:square;stroke-linejoin:miter;stroke-width:0.8;\"/>\r\n   </g>\r\n   <g id=\"patch_4\">\r\n    <path d=\"M 377.628125 224.64 \r\nL 377.628125 7.2 \r\n\" style=\"fill:none;stroke:#000000;stroke-linecap:square;stroke-linejoin:miter;stroke-width:0.8;\"/>\r\n   </g>\r\n   <g id=\"patch_5\">\r\n    <path d=\"M 42.828125 224.64 \r\nL 377.628125 224.64 \r\n\" style=\"fill:none;stroke:#000000;stroke-linecap:square;stroke-linejoin:miter;stroke-width:0.8;\"/>\r\n   </g>\r\n   <g id=\"patch_6\">\r\n    <path d=\"M 42.828125 7.2 \r\nL 377.628125 7.2 \r\n\" style=\"fill:none;stroke:#000000;stroke-linecap:square;stroke-linejoin:miter;stroke-width:0.8;\"/>\r\n   </g>\r\n  </g>\r\n </g>\r\n <defs>\r\n  <clipPath id=\"pefdf53d994\">\r\n   <rect height=\"217.44\" width=\"334.8\" x=\"42.828125\" y=\"7.2\"/>\r\n  </clipPath>\r\n </defs>\r\n</svg>\r\n",
      "image/png": "[encoded data removed]"
     },
     "metadata": {
      "needs_background": "light"
     }
    }
   ],
   "source": [
    "fig, ax = plt.subplots()\n",
    "ax.plot(nn.history['loss'])\n",
    "ax.plot(nn.history['val_loss'], color='y')"
   ]
  },
  {
   "cell_type": "code",
   "execution_count": 14,
   "metadata": {},
   "outputs": [],
   "source": [
    "pred = model.predict(X_test)\n",
    "pred = sc.inverse_transform(pred)\n",
    "real = test_set.values"
   ]
  },
  {
   "cell_type": "code",
   "execution_count": 15,
   "metadata": {},
   "outputs": [
    {
     "output_type": "display_data",
     "data": {
      "application/vnd.plotly.v1+json": {
       "config": {
        "plotlyServerURL": "https://plot.ly"
       },
       "data": [
        {
         "name": "real",
         "type": "scatter",
         "x": [
          "2020-07-16",
          "2020-07-17",
          "2020-07-18",
          "2020-07-19",
          "2020-07-20",
          "2020-07-21",
          "2020-07-22",
          "2020-07-23",
          "2020-07-24",
          "2020-07-25",
          "2020-07-26",
          "2020-07-27",
          "2020-07-28",
          "2020-07-29",
          "2020-07-30",
          "2020-07-31",
          "2020-08-01",
          "2020-08-02",
          "2020-08-03",
          "2020-08-04",
          "2020-08-05",
          "2020-08-06",
          "2020-08-07",
          "2020-08-08",
          "2020-08-09",
          "2020-08-10",
          "2020-08-11",
          "2020-08-12",
          "2020-08-13",
          "2020-08-14",
          "2020-08-15",
          "2020-08-16",
          "2020-08-17",
          "2020-08-18",
          "2020-08-19",
          "2020-08-20",
          "2020-08-21",
          "2020-08-22",
          "2020-08-23",
          "2020-08-24"
         ],
         "y": [
          417355121,
          625462756,
          974767047,
          1086362805,
          763872311,
          750464550,
          682682785,
          562838567,
          843212578,
          877263004,
          903318255,
          623565079,
          708788574,
          489909859,
          757493140,
          815172365,
          1000516007,
          773113085,
          1161374066,
          750622134,
          543491687,
          726910982,
          903697785,
          1098221846,
          987108001,
          507958746,
          605012889,
          622550913,
          595589067,
          999723672,
          1244952927,
          1119095102,
          745818108,
          553884240,
          619307860,
          603038684,
          879556630,
          734012688,
          931569484,
          348877153
         ]
        },
        {
         "name": "pred",
         "type": "scatter",
         "x": [
          "2020-07-16",
          "2020-07-17",
          "2020-07-18",
          "2020-07-19",
          "2020-07-20",
          "2020-07-21",
          "2020-07-22",
          "2020-07-23",
          "2020-07-24",
          "2020-07-25",
          "2020-07-26",
          "2020-07-27",
          "2020-07-28",
          "2020-07-29",
          "2020-07-30",
          "2020-07-31",
          "2020-08-01",
          "2020-08-02",
          "2020-08-03",
          "2020-08-04",
          "2020-08-05",
          "2020-08-06",
          "2020-08-07",
          "2020-08-08",
          "2020-08-09",
          "2020-08-10",
          "2020-08-11",
          "2020-08-12",
          "2020-08-13",
          "2020-08-14",
          "2020-08-15",
          "2020-08-16",
          "2020-08-17",
          "2020-08-18",
          "2020-08-19",
          "2020-08-20",
          "2020-08-21",
          "2020-08-22",
          "2020-08-23",
          "2020-08-24"
         ],
         "y": [
          512988224,
          542139456,
          650997504,
          869796672,
          743615552,
          605604672,
          607669824,
          619504064,
          624694656,
          765246720,
          972981056,
          857672256,
          619502784,
          578917440,
          551092096,
          631810432,
          800830528,
          994044928,
          673539776,
          669905536,
          659425408,
          624923712,
          677842816,
          866055424,
          1033095040,
          651723008,
          645169536,
          575692160,
          601941376,
          676043712,
          927437440,
          1087042944,
          634493248,
          708013312,
          630016320,
          635653952,
          696327104,
          898319616,
          920549120,
          610642048
         ]
        }
       ],
       "layout": {
        "template": {
         "data": {
          "bar": [
           {
            "error_x": {
             "color": "#2a3f5f"
            },
            "error_y": {
             "color": "#2a3f5f"
            },
            "marker": {
             "line": {
              "color": "#E5ECF6",
              "width": 0.5
             }
            },
            "type": "bar"
           }
          ],
          "barpolar": [
           {
            "marker": {
             "line": {
              "color": "#E5ECF6",
              "width": 0.5
             }
            },
            "type": "barpolar"
           }
          ],
          "carpet": [
           {
            "aaxis": {
             "endlinecolor": "#2a3f5f",
             "gridcolor": "white",
             "linecolor": "white",
             "minorgridcolor": "white",
             "startlinecolor": "#2a3f5f"
            },
            "baxis": {
             "endlinecolor": "#2a3f5f",
             "gridcolor": "white",
             "linecolor": "white",
             "minorgridcolor": "white",
             "startlinecolor": "#2a3f5f"
            },
            "type": "carpet"
           }
          ],
          "choropleth": [
           {
            "colorbar": {
             "outlinewidth": 0,
             "ticks": ""
            },
            "type": "choropleth"
           }
          ],
          "contour": [
           {
            "colorbar": {
             "outlinewidth": 0,
             "ticks": ""
            },
            "colorscale": [
             [
              0,
              "#0d0887"
             ],
             [
              0.1111111111111111,
              "#46039f"
             ],
             [
              0.2222222222222222,
              "#7201a8"
             ],
             [
              0.3333333333333333,
              "#9c179e"
             ],
             [
              0.4444444444444444,
              "#bd3786"
             ],
             [
              0.5555555555555556,
              "#d8576b"
             ],
             [
              0.6666666666666666,
              "#ed7953"
             ],
             [
              0.7777777777777778,
              "#fb9f3a"
             ],
             [
              0.8888888888888888,
              "#fdca26"
             ],
             [
              1,
              "#f0f921"
             ]
            ],
            "type": "contour"
           }
          ],
          "contourcarpet": [
           {
            "colorbar": {
             "outlinewidth": 0,
             "ticks": ""
            },
            "type": "contourcarpet"
           }
          ],
          "heatmap": [
           {
            "colorbar": {
             "outlinewidth": 0,
             "ticks": ""
            },
            "colorscale": [
             [
              0,
              "#0d0887"
             ],
             [
              0.1111111111111111,
              "#46039f"
             ],
             [
              0.2222222222222222,
              "#7201a8"
             ],
             [
              0.3333333333333333,
              "#9c179e"
             ],
             [
              0.4444444444444444,
              "#bd3786"
             ],
             [
              0.5555555555555556,
              "#d8576b"
             ],
             [
              0.6666666666666666,
              "#ed7953"
             ],
             [
              0.7777777777777778,
              "#fb9f3a"
             ],
             [
              0.8888888888888888,
              "#fdca26"
             ],
             [
              1,
              "#f0f921"
             ]
            ],
            "type": "heatmap"
           }
          ],
          "heatmapgl": [
           {
            "colorbar": {
             "outlinewidth": 0,
             "ticks": ""
            },
            "colorscale": [
             [
              0,
              "#0d0887"
             ],
             [
              0.1111111111111111,
              "#46039f"
             ],
             [
              0.2222222222222222,
              "#7201a8"
             ],
             [
              0.3333333333333333,
              "#9c179e"
             ],
             [
              0.4444444444444444,
              "#bd3786"
             ],
             [
              0.5555555555555556,
              "#d8576b"
             ],
             [
              0.6666666666666666,
              "#ed7953"
             ],
             [
              0.7777777777777778,
              "#fb9f3a"
             ],
             [
              0.8888888888888888,
              "#fdca26"
             ],
             [
              1,
              "#f0f921"
             ]
            ],
            "type": "heatmapgl"
           }
          ],
          "histogram": [
           {
            "marker": {
             "colorbar": {
              "outlinewidth": 0,
              "ticks": ""
             }
            },
            "type": "histogram"
           }
          ],
          "histogram2d": [
           {
            "colorbar": {
             "outlinewidth": 0,
             "ticks": ""
            },
            "colorscale": [
             [
              0,
              "#0d0887"
             ],
             [
              0.1111111111111111,
              "#46039f"
             ],
             [
              0.2222222222222222,
              "#7201a8"
             ],
             [
              0.3333333333333333,
              "#9c179e"
             ],
             [
              0.4444444444444444,
              "#bd3786"
             ],
             [
              0.5555555555555556,
              "#d8576b"
             ],
             [
              0.6666666666666666,
              "#ed7953"
             ],
             [
              0.7777777777777778,
              "#fb9f3a"
             ],
             [
              0.8888888888888888,
              "#fdca26"
             ],
             [
              1,
              "#f0f921"
             ]
            ],
            "type": "histogram2d"
           }
          ],
          "histogram2dcontour": [
           {
            "colorbar": {
             "outlinewidth": 0,
             "ticks": ""
            },
            "colorscale": [
             [
              0,
              "#0d0887"
             ],
             [
              0.1111111111111111,
              "#46039f"
             ],
             [
              0.2222222222222222,
              "#7201a8"
             ],
             [
              0.3333333333333333,
              "#9c179e"
             ],
             [
              0.4444444444444444,
              "#bd3786"
             ],
             [
              0.5555555555555556,
              "#d8576b"
             ],
             [
              0.6666666666666666,
              "#ed7953"
             ],
             [
              0.7777777777777778,
              "#fb9f3a"
             ],
             [
              0.8888888888888888,
              "#fdca26"
             ],
             [
              1,
              "#f0f921"
             ]
            ],
            "type": "histogram2dcontour"
           }
          ],
          "mesh3d": [
           {
            "colorbar": {
             "outlinewidth": 0,
             "ticks": ""
            },
            "type": "mesh3d"
           }
          ],
          "parcoords": [
           {
            "line": {
             "colorbar": {
              "outlinewidth": 0,
              "ticks": ""
             }
            },
            "type": "parcoords"
           }
          ],
          "pie": [
           {
            "automargin": true,
            "type": "pie"
           }
          ],
          "scatter": [
           {
            "marker": {
             "colorbar": {
              "outlinewidth": 0,
              "ticks": ""
             }
            },
            "type": "scatter"
           }
          ],
          "scatter3d": [
           {
            "line": {
             "colorbar": {
              "outlinewidth": 0,
              "ticks": ""
             }
            },
            "marker": {
             "colorbar": {
              "outlinewidth": 0,
              "ticks": ""
             }
            },
            "type": "scatter3d"
           }
          ],
          "scattercarpet": [
           {
            "marker": {
             "colorbar": {
              "outlinewidth": 0,
              "ticks": ""
             }
            },
            "type": "scattercarpet"
           }
          ],
          "scattergeo": [
           {
            "marker": {
             "colorbar": {
              "outlinewidth": 0,
              "ticks": ""
             }
            },
            "type": "scattergeo"
           }
          ],
          "scattergl": [
           {
            "marker": {
             "colorbar": {
              "outlinewidth": 0,
              "ticks": ""
             }
            },
            "type": "scattergl"
           }
          ],
          "scattermapbox": [
           {
            "marker": {
             "colorbar": {
              "outlinewidth": 0,
              "ticks": ""
             }
            },
            "type": "scattermapbox"
           }
          ],
          "scatterpolar": [
           {
            "marker": {
             "colorbar": {
              "outlinewidth": 0,
              "ticks": ""
             }
            },
            "type": "scatterpolar"
           }
          ],
          "scatterpolargl": [
           {
            "marker": {
             "colorbar": {
              "outlinewidth": 0,
              "ticks": ""
             }
            },
            "type": "scatterpolargl"
           }
          ],
          "scatterternary": [
           {
            "marker": {
             "colorbar": {
              "outlinewidth": 0,
              "ticks": ""
             }
            },
            "type": "scatterternary"
           }
          ],
          "surface": [
           {
            "colorbar": {
             "outlinewidth": 0,
             "ticks": ""
            },
            "colorscale": [
             [
              0,
              "#0d0887"
             ],
             [
              0.1111111111111111,
              "#46039f"
             ],
             [
              0.2222222222222222,
              "#7201a8"
             ],
             [
              0.3333333333333333,
              "#9c179e"
             ],
             [
              0.4444444444444444,
              "#bd3786"
             ],
             [
              0.5555555555555556,
              "#d8576b"
             ],
             [
              0.6666666666666666,
              "#ed7953"
             ],
             [
              0.7777777777777778,
              "#fb9f3a"
             ],
             [
              0.8888888888888888,
              "#fdca26"
             ],
             [
              1,
              "#f0f921"
             ]
            ],
            "type": "surface"
           }
          ],
          "table": [
           {
            "cells": {
             "fill": {
              "color": "#EBF0F8"
             },
             "line": {
              "color": "white"
             }
            },
            "header": {
             "fill": {
              "color": "#C8D4E3"
             },
             "line": {
              "color": "white"
             }
            },
            "type": "table"
           }
          ]
         },
         "layout": {
          "annotationdefaults": {
           "arrowcolor": "#2a3f5f",
           "arrowhead": 0,
           "arrowwidth": 1
          },
          "coloraxis": {
           "colorbar": {
            "outlinewidth": 0,
            "ticks": ""
           }
          },
          "colorscale": {
           "diverging": [
            [
             0,
             "#8e0152"
            ],
            [
             0.1,
             "#c51b7d"
            ],
            [
             0.2,
             "#de77ae"
            ],
            [
             0.3,
             "#f1b6da"
            ],
            [
             0.4,
             "#fde0ef"
            ],
            [
             0.5,
             "#f7f7f7"
            ],
            [
             0.6,
             "#e6f5d0"
            ],
            [
             0.7,
             "#b8e186"
            ],
            [
             0.8,
             "#7fbc41"
            ],
            [
             0.9,
             "#4d9221"
            ],
            [
             1,
             "#276419"
            ]
           ],
           "sequential": [
            [
             0,
             "#0d0887"
            ],
            [
             0.1111111111111111,
             "#46039f"
            ],
            [
             0.2222222222222222,
             "#7201a8"
            ],
            [
             0.3333333333333333,
             "#9c179e"
            ],
            [
             0.4444444444444444,
             "#bd3786"
            ],
            [
             0.5555555555555556,
             "#d8576b"
            ],
            [
             0.6666666666666666,
             "#ed7953"
            ],
            [
             0.7777777777777778,
             "#fb9f3a"
            ],
            [
             0.8888888888888888,
             "#fdca26"
            ],
            [
             1,
             "#f0f921"
            ]
           ],
           "sequentialminus": [
            [
             0,
             "#0d0887"
            ],
            [
             0.1111111111111111,
             "#46039f"
            ],
            [
             0.2222222222222222,
             "#7201a8"
            ],
            [
             0.3333333333333333,
             "#9c179e"
            ],
            [
             0.4444444444444444,
             "#bd3786"
            ],
            [
             0.5555555555555556,
             "#d8576b"
            ],
            [
             0.6666666666666666,
             "#ed7953"
            ],
            [
             0.7777777777777778,
             "#fb9f3a"
            ],
            [
             0.8888888888888888,
             "#fdca26"
            ],
            [
             1,
             "#f0f921"
            ]
           ]
          },
          "colorway": [
           "#636efa",
           "#EF553B",
           "#00cc96",
           "#ab63fa",
           "#FFA15A",
           "#19d3f3",
           "#FF6692",
           "#B6E880",
           "#FF97FF",
           "#FECB52"
          ],
          "font": {
           "color": "#2a3f5f"
          },
          "geo": {
           "bgcolor": "white",
           "lakecolor": "white",
           "landcolor": "#E5ECF6",
           "showlakes": true,
           "showland": true,
           "subunitcolor": "white"
          },
          "hoverlabel": {
           "align": "left"
          },
          "hovermode": "closest",
          "mapbox": {
           "style": "light"
          },
          "paper_bgcolor": "white",
          "plot_bgcolor": "#E5ECF6",
          "polar": {
           "angularaxis": {
            "gridcolor": "white",
            "linecolor": "white",
            "ticks": ""
           },
           "bgcolor": "#E5ECF6",
           "radialaxis": {
            "gridcolor": "white",
            "linecolor": "white",
            "ticks": ""
           }
          },
          "scene": {
           "xaxis": {
            "backgroundcolor": "#E5ECF6",
            "gridcolor": "white",
            "gridwidth": 2,
            "linecolor": "white",
            "showbackground": true,
            "ticks": "",
            "zerolinecolor": "white"
           },
           "yaxis": {
            "backgroundcolor": "#E5ECF6",
            "gridcolor": "white",
            "gridwidth": 2,
            "linecolor": "white",
            "showbackground": true,
            "ticks": "",
            "zerolinecolor": "white"
           },
           "zaxis": {
            "backgroundcolor": "#E5ECF6",
            "gridcolor": "white",
            "gridwidth": 2,
            "linecolor": "white",
            "showbackground": true,
            "ticks": "",
            "zerolinecolor": "white"
           }
          },
          "shapedefaults": {
           "line": {
            "color": "#2a3f5f"
           }
          },
          "ternary": {
           "aaxis": {
            "gridcolor": "white",
            "linecolor": "white",
            "ticks": ""
           },
           "baxis": {
            "gridcolor": "white",
            "linecolor": "white",
            "ticks": ""
           },
           "bgcolor": "#E5ECF6",
           "caxis": {
            "gridcolor": "white",
            "linecolor": "white",
            "ticks": ""
           }
          },
          "title": {
           "x": 0.05
          },
          "xaxis": {
           "automargin": true,
           "gridcolor": "white",
           "linecolor": "white",
           "ticks": "",
           "title": {
            "standoff": 15
           },
           "zerolinecolor": "white",
           "zerolinewidth": 2
          },
          "yaxis": {
           "automargin": true,
           "gridcolor": "white",
           "linecolor": "white",
           "ticks": "",
           "title": {
            "standoff": 15
           },
           "zerolinecolor": "white",
           "zerolinewidth": 2
          }
         }
        }
       }
      }
     },
     "metadata": {}
    }
   ],
   "source": [
    "fig = go.Figure()\n",
    "\n",
    "fig.add_trace(\n",
    "    go.Scatter(\n",
    "        name='real',\n",
    "        x=df2.iloc[-40:,:]['TRANDATE'],\n",
    "        y=real.flatten()\n",
    "    )\n",
    ")\n",
    "\n",
    "fig.add_trace(\n",
    "    go.Scatter(\n",
    "        name='pred',\n",
    "        x=df2.iloc[-40:,:]['TRANDATE'],\n",
    "        y=pred.flatten()\n",
    "    )\n",
    ")\n",
    "fig.show()"
   ]
  },
  {
   "cell_type": "code",
   "execution_count": 16,
   "metadata": {
    "tags": []
   },
   "outputs": [
    {
     "output_type": "stream",
     "name": "stdout",
     "text": "WARNING:tensorflow:From C:\\Users\\ADMIN\\Anaconda3\\lib\\site-packages\\tensorflow\\python\\ops\\resource_variable_ops.py:1817: calling BaseResourceVariable.__init__ (from tensorflow.python.ops.resource_variable_ops) with constraint is deprecated and will be removed in a future version.\nInstructions for updating:\nIf using Keras pass *_constraint arguments to layers.\nINFO:tensorflow:Assets written to: ./assets\n"
    }
   ],
   "source": [
    "model.save('./')"
   ]
  }
 ]
}
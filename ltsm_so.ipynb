{
 "metadata": {
  "language_info": {
   "codemirror_mode": {
    "name": "ipython",
    "version": 3
   },
   "file_extension": ".py",
   "mimetype": "text/x-python",
   "name": "python",
   "nbconvert_exporter": "python",
   "pygments_lexer": "ipython3",
   "version": "3.7.7-final"
  },
  "orig_nbformat": 2,
  "kernelspec": {
   "name": "python_defaultSpec_1598004668340",
   "display_name": "Python 3.7.7 64-bit ('Anaconda3': conda)"
  }
 },
 "nbformat": 4,
 "nbformat_minor": 2,
 "cells": [
  {
   "cell_type": "code",
   "execution_count": 1,
   "metadata": {},
   "outputs": [],
   "source": [
    "import numpy as np\n",
    "import pandas as pd\n",
    "from sqlalchemy import create_engine\n",
    "import pymysql\n",
    "import pyodbc\n",
    "from sklearn.preprocessing import MinMaxScaler\n",
    "from sklearn.model_selection import train_test_split\n",
    "from tensorflow.keras.models import Sequential\n",
    "from tensorflow.keras.layers import Dense, LSTM, Dropout\n",
    "from tensorflow.keras.callbacks import EarlyStopping\n",
    "from sklearn.metrics import mean_squared_error, mean_absolute_error\n",
    "import plotly.graph_objects as go\n",
    "import matplotlib.pyplot as plt"
   ]
  },
  {
   "cell_type": "code",
   "execution_count": 4,
   "metadata": {},
   "outputs": [],
   "source": [
    "def get_netsuite(query):\n",
    "    '''\n",
    "    Query NetSuite using ODBC\n",
    "    Planning to switch to JDBC or REST API\n",
    "    '''\n",
    "    cnxn = pyodbc.connect('DSN=NetSuiteML;uid=minh.le@vuanem.com;PWD=BI@2023cute')\n",
    "    sales_order = pd.read_sql(query, cnxn)\n",
    "    print(sales_order.head())\n",
    "    return sales_order"
   ]
  },
  {
   "cell_type": "code",
   "execution_count": 5,
   "metadata": {},
   "outputs": [],
   "source": [
    "netsuite_query = '''\n",
    "    SELECT\n",
    "        CAST(TRANSACTIONS.TRANDATE AS date) AS TRANDATE,\n",
    "        - SUM(TRANSACTION_LINES.NET_AMOUNT) AS 'NET_AMOUNT'\n",
    "    FROM\n",
    "        \"Vua Nem Joint Stock Company\".\"Vua Nem - Storehouse Officer\".TRANSACTION_LINES TRANSACTION_LINES\n",
    "        LEFT JOIN \"Vua Nem Joint Stock Company\".\"Vua Nem - Storehouse Officer\".TRANSACTIONS TRANSACTIONS ON TRANSACTION_LINES.TRANSACTION_ID = TRANSACTIONS.TRANSACTION_ID\n",
    "        LEFT JOIN \"Vua Nem Joint Stock Company\".\"Vua Nem - Storehouse Officer\".INVENTORY_ITEMS ON TRANSACTION_LINES.ITEM_ID = INVENTORY_ITEMS.ITEM_ID\n",
    "        LEFT JOIN \"Vua Nem Joint Stock Company\".\"Vua Nem - Storehouse Officer\".SERVICE_ITEMS ON SERVICE_ITEMS.ITEM_ID = TRANSACTION_LINES.ITEM_ID\n",
    "    WHERE\n",
    "        TRANSACTION_LINES.ACCOUNT_ID IN (480, 482, 487, 498, 505, 508, 509, 510, 511, 54, 1079, 1170)\n",
    "        AND TRANSACTIONS.TRANSACTION_TYPE IN ('Sales Order')\n",
    "        AND TRANSACTIONS.STATUS <> 'Closed'\n",
    "        AND (\n",
    "                (INVENTORY_ITEMS.DISPLAYNAME IS NOT NULL)\n",
    "                OR(SERVICE_ITEMS.ITEM_ID IN ('136263', '136264'))\n",
    "        )\n",
    "    GROUP BY\n",
    "        TRANSACTIONS.TRANDATE\n",
    "    ORDER BY TRANSACTIONS.TRANDATE\n",
    "        '''"
   ]
  },
  {
   "cell_type": "code",
   "execution_count": 6,
   "metadata": {
    "tags": []
   },
   "outputs": [
    {
     "output_type": "stream",
     "name": "stdout",
     "text": "TRANDATE    NET_AMOUNT\n0  2018-06-26  5.077728e+06\n1  2018-06-30  2.621633e+09\n2  2018-07-01  3.523492e+08\n3  2018-07-02  3.614652e+08\n4  2018-07-03  3.742462e+08\n"
    }
   ],
   "source": [
    "df = get_netsuite(netsuite_query)"
   ]
  },
  {
   "cell_type": "code",
   "execution_count": 7,
   "metadata": {},
   "outputs": [],
   "source": [
    "df2 = df.copy()"
   ]
  },
  {
   "cell_type": "code",
   "execution_count": 18,
   "metadata": {},
   "outputs": [],
   "source": [
    "train_set = df2[['NET_AMOUNT']].iloc[:-40,:]\n",
    "test_set = df2[['NET_AMOUNT']].iloc[-40:,:]"
   ]
  },
  {
   "cell_type": "code",
   "execution_count": 19,
   "metadata": {},
   "outputs": [],
   "source": [
    "day_to_window = 30"
   ]
  },
  {
   "cell_type": "code",
   "execution_count": 20,
   "metadata": {},
   "outputs": [],
   "source": [
    "sc = MinMaxScaler(feature_range=(0,1))\n",
    "stage_train = sc.fit_transform(train_set.values.reshape(-1,1))\n",
    "X_train = []\n",
    "y_train = []\n",
    "for i in range(day_to_window, len(stage_train)):\n",
    "    X_train.append(stage_train[i-day_to_window:i, :])\n",
    "    y_train.append(stage_train[i, :])\n",
    "X_train, y_train = np.array(X_train), np.array(y_train)\n",
    "X_train = np.reshape(X_train, (X_train.shape[0], X_train.shape[1], 1))"
   ]
  },
  {
   "cell_type": "code",
   "execution_count": 21,
   "metadata": {},
   "outputs": [],
   "source": [
    "dataset_total = pd.concat((train_set, test_set), axis = 0)\n",
    "inputs = dataset_total[len(df) - len(test_set) - day_to_window:].values\n",
    "inputs = inputs.reshape(-1,1)\n",
    "inputs = sc.transform(inputs)\n",
    "X_test = []\n",
    "y_test = []\n",
    "for i in range(day_to_window, day_to_window + len(test_set)):\n",
    "    X_test.append(inputs[i-day_to_window:i, :])\n",
    "    y_test.append(inputs[i, :])\n",
    "X_test = np.array(X_test)\n",
    "y_test = np.array(y_test)\n",
    "X_test = np.reshape(X_test, (X_test.shape[0], X_test.shape[1], 1))"
   ]
  },
  {
   "cell_type": "code",
   "execution_count": 22,
   "metadata": {
    "tags": [
     "outputPrepend"
    ]
   },
   "outputs": [
    {
     "output_type": "stream",
     "name": "stdout",
     "text": " - loss: 0.0078 - mean_absolute_error: 0.0656 - val_loss: 0.0066 - val_mean_absolute_error: 0.0647\nEpoch 81/200\n23/23 [==============================] - 1s 30ms/step - loss: 0.0080 - mean_absolute_error: 0.0664 - val_loss: 0.0067 - val_mean_absolute_error: 0.0669\nEpoch 82/200\n23/23 [==============================] - 1s 30ms/step - loss: 0.0073 - mean_absolute_error: 0.0630 - val_loss: 0.0066 - val_mean_absolute_error: 0.0657\nEpoch 83/200\n23/23 [==============================] - 1s 30ms/step - loss: 0.0072 - mean_absolute_error: 0.0630 - val_loss: 0.0069 - val_mean_absolute_error: 0.0686\nEpoch 84/200\n23/23 [==============================] - 1s 30ms/step - loss: 0.0074 - mean_absolute_error: 0.0647 - val_loss: 0.0065 - val_mean_absolute_error: 0.0646\nEpoch 85/200\n23/23 [==============================] - 1s 30ms/step - loss: 0.0079 - mean_absolute_error: 0.0648 - val_loss: 0.0064 - val_mean_absolute_error: 0.0639\nEpoch 86/200\n23/23 [==============================] - 1s 31ms/step - loss: 0.0072 - mean_absolute_error: 0.0628 - val_loss: 0.0066 - val_mean_absolute_error: 0.0669\nEpoch 87/200\n23/23 [==============================] - 1s 30ms/step - loss: 0.0071 - mean_absolute_error: 0.0635 - val_loss: 0.0064 - val_mean_absolute_error: 0.0650\nEpoch 88/200\n23/23 [==============================] - 1s 30ms/step - loss: 0.0074 - mean_absolute_error: 0.0646 - val_loss: 0.0067 - val_mean_absolute_error: 0.0638\nEpoch 89/200\n23/23 [==============================] - 1s 30ms/step - loss: 0.0074 - mean_absolute_error: 0.0635 - val_loss: 0.0071 - val_mean_absolute_error: 0.0703\nEpoch 90/200\n23/23 [==============================] - 1s 29ms/step - loss: 0.0076 - mean_absolute_error: 0.0643 - val_loss: 0.0065 - val_mean_absolute_error: 0.0663\nEpoch 91/200\n23/23 [==============================] - 1s 30ms/step - loss: 0.0073 - mean_absolute_error: 0.0633 - val_loss: 0.0063 - val_mean_absolute_error: 0.0643\nEpoch 92/200\n23/23 [==============================] - 1s 30ms/step - loss: 0.0072 - mean_absolute_error: 0.0621 - val_loss: 0.0067 - val_mean_absolute_error: 0.0681\nEpoch 93/200\n23/23 [==============================] - 1s 30ms/step - loss: 0.0080 - mean_absolute_error: 0.0664 - val_loss: 0.0066 - val_mean_absolute_error: 0.0679\nEpoch 94/200\n23/23 [==============================] - 1s 30ms/step - loss: 0.0070 - mean_absolute_error: 0.0635 - val_loss: 0.0062 - val_mean_absolute_error: 0.0640\nEpoch 95/200\n23/23 [==============================] - 1s 30ms/step - loss: 0.0073 - mean_absolute_error: 0.0628 - val_loss: 0.0063 - val_mean_absolute_error: 0.0644\nEpoch 96/200\n23/23 [==============================] - 1s 31ms/step - loss: 0.0072 - mean_absolute_error: 0.0617 - val_loss: 0.0067 - val_mean_absolute_error: 0.0683\nEpoch 97/200\n23/23 [==============================] - 1s 31ms/step - loss: 0.0071 - mean_absolute_error: 0.0633 - val_loss: 0.0064 - val_mean_absolute_error: 0.0655\nEpoch 98/200\n23/23 [==============================] - 1s 30ms/step - loss: 0.0069 - mean_absolute_error: 0.0614 - val_loss: 0.0066 - val_mean_absolute_error: 0.0674\nEpoch 99/200\n23/23 [==============================] - 1s 30ms/step - loss: 0.0071 - mean_absolute_error: 0.0620 - val_loss: 0.0063 - val_mean_absolute_error: 0.0649\nEpoch 100/200\n23/23 [==============================] - 1s 30ms/step - loss: 0.0074 - mean_absolute_error: 0.0637 - val_loss: 0.0061 - val_mean_absolute_error: 0.0633\nEpoch 101/200\n23/23 [==============================] - 1s 30ms/step - loss: 0.0069 - mean_absolute_error: 0.0625 - val_loss: 0.0070 - val_mean_absolute_error: 0.0647\nEpoch 102/200\n23/23 [==============================] - 1s 31ms/step - loss: 0.0073 - mean_absolute_error: 0.0629 - val_loss: 0.0064 - val_mean_absolute_error: 0.0627\nEpoch 103/200\n23/23 [==============================] - 1s 30ms/step - loss: 0.0069 - mean_absolute_error: 0.0617 - val_loss: 0.0063 - val_mean_absolute_error: 0.0652\nEpoch 104/200\n23/23 [==============================] - 1s 30ms/step - loss: 0.0071 - mean_absolute_error: 0.0628 - val_loss: 0.0063 - val_mean_absolute_error: 0.0656\nEpoch 105/200\n23/23 [==============================] - 1s 30ms/step - loss: 0.0071 - mean_absolute_error: 0.0621 - val_loss: 0.0061 - val_mean_absolute_error: 0.0632\nEpoch 106/200\n23/23 [==============================] - 1s 30ms/step - loss: 0.0071 - mean_absolute_error: 0.0631 - val_loss: 0.0061 - val_mean_absolute_error: 0.0623\nEpoch 107/200\n23/23 [==============================] - 1s 30ms/step - loss: 0.0070 - mean_absolute_error: 0.0627 - val_loss: 0.0062 - val_mean_absolute_error: 0.0639\nEpoch 108/200\n23/23 [==============================] - 1s 30ms/step - loss: 0.0070 - mean_absolute_error: 0.0624 - val_loss: 0.0063 - val_mean_absolute_error: 0.0649\nEpoch 109/200\n23/23 [==============================] - 1s 30ms/step - loss: 0.0070 - mean_absolute_error: 0.0619 - val_loss: 0.0063 - val_mean_absolute_error: 0.0635\nEpoch 110/200\n23/23 [==============================] - 1s 30ms/step - loss: 0.0073 - mean_absolute_error: 0.0636 - val_loss: 0.0062 - val_mean_absolute_error: 0.0640\nEpoch 111/200\n23/23 [==============================] - 1s 30ms/step - loss: 0.0068 - mean_absolute_error: 0.0617 - val_loss: 0.0062 - val_mean_absolute_error: 0.0648\nEpoch 112/200\n23/23 [==============================] - 1s 31ms/step - loss: 0.0067 - mean_absolute_error: 0.0615 - val_loss: 0.0061 - val_mean_absolute_error: 0.0639\nEpoch 113/200\n23/23 [==============================] - 1s 30ms/step - loss: 0.0069 - mean_absolute_error: 0.0625 - val_loss: 0.0063 - val_mean_absolute_error: 0.0656\nEpoch 114/200\n23/23 [==============================] - 1s 30ms/step - loss: 0.0065 - mean_absolute_error: 0.0604 - val_loss: 0.0062 - val_mean_absolute_error: 0.0649\nEpoch 115/200\n23/23 [==============================] - 1s 30ms/step - loss: 0.0065 - mean_absolute_error: 0.0602 - val_loss: 0.0061 - val_mean_absolute_error: 0.0643\nEpoch 116/200\n23/23 [==============================] - 1s 30ms/step - loss: 0.0066 - mean_absolute_error: 0.0606 - val_loss: 0.0061 - val_mean_absolute_error: 0.0605\nEpoch 117/200\n23/23 [==============================] - 1s 30ms/step - loss: 0.0069 - mean_absolute_error: 0.0625 - val_loss: 0.0064 - val_mean_absolute_error: 0.0624\nEpoch 118/200\n23/23 [==============================] - 1s 32ms/step - loss: 0.0068 - mean_absolute_error: 0.0615 - val_loss: 0.0060 - val_mean_absolute_error: 0.0632\nEpoch 119/200\n23/23 [==============================] - 1s 31ms/step - loss: 0.0069 - mean_absolute_error: 0.0612 - val_loss: 0.0061 - val_mean_absolute_error: 0.0633\nEpoch 120/200\n23/23 [==============================] - 1s 32ms/step - loss: 0.0068 - mean_absolute_error: 0.0613 - val_loss: 0.0060 - val_mean_absolute_error: 0.0616\nEpoch 121/200\n23/23 [==============================] - 1s 31ms/step - loss: 0.0069 - mean_absolute_error: 0.0618 - val_loss: 0.0061 - val_mean_absolute_error: 0.0629\nEpoch 122/200\n23/23 [==============================] - 1s 31ms/step - loss: 0.0067 - mean_absolute_error: 0.0607 - val_loss: 0.0059 - val_mean_absolute_error: 0.0609\nEpoch 123/200\n23/23 [==============================] - 1s 32ms/step - loss: 0.0069 - mean_absolute_error: 0.0619 - val_loss: 0.0061 - val_mean_absolute_error: 0.0624\nEpoch 124/200\n23/23 [==============================] - 1s 33ms/step - loss: 0.0068 - mean_absolute_error: 0.0623 - val_loss: 0.0062 - val_mean_absolute_error: 0.0608\nEpoch 125/200\n23/23 [==============================] - 1s 31ms/step - loss: 0.0068 - mean_absolute_error: 0.0615 - val_loss: 0.0060 - val_mean_absolute_error: 0.0625\nEpoch 126/200\n23/23 [==============================] - 1s 32ms/step - loss: 0.0065 - mean_absolute_error: 0.0597 - val_loss: 0.0059 - val_mean_absolute_error: 0.0617\nEpoch 127/200\n23/23 [==============================] - 1s 31ms/step - loss: 0.0066 - mean_absolute_error: 0.0607 - val_loss: 0.0059 - val_mean_absolute_error: 0.0625\nEpoch 128/200\n23/23 [==============================] - 1s 31ms/step - loss: 0.0070 - mean_absolute_error: 0.0610 - val_loss: 0.0063 - val_mean_absolute_error: 0.0659\nEpoch 129/200\n23/23 [==============================] - 1s 31ms/step - loss: 0.0071 - mean_absolute_error: 0.0625 - val_loss: 0.0058 - val_mean_absolute_error: 0.0618\nEpoch 130/200\n23/23 [==============================] - 1s 31ms/step - loss: 0.0068 - mean_absolute_error: 0.0614 - val_loss: 0.0063 - val_mean_absolute_error: 0.0657\nEpoch 131/200\n23/23 [==============================] - 1s 31ms/step - loss: 0.0067 - mean_absolute_error: 0.0611 - val_loss: 0.0066 - val_mean_absolute_error: 0.0677\nEpoch 132/200\n23/23 [==============================] - 1s 31ms/step - loss: 0.0066 - mean_absolute_error: 0.0606 - val_loss: 0.0059 - val_mean_absolute_error: 0.0625\nEpoch 133/200\n23/23 [==============================] - 1s 31ms/step - loss: 0.0065 - mean_absolute_error: 0.0593 - val_loss: 0.0061 - val_mean_absolute_error: 0.0647\nEpoch 134/200\n23/23 [==============================] - 1s 31ms/step - loss: 0.0065 - mean_absolute_error: 0.0600 - val_loss: 0.0060 - val_mean_absolute_error: 0.0631\nEpoch 135/200\n23/23 [==============================] - 1s 31ms/step - loss: 0.0066 - mean_absolute_error: 0.0607 - val_loss: 0.0059 - val_mean_absolute_error: 0.0626\nEpoch 136/200\n23/23 [==============================] - 1s 31ms/step - loss: 0.0069 - mean_absolute_error: 0.0617 - val_loss: 0.0060 - val_mean_absolute_error: 0.0638\nEpoch 137/200\n23/23 [==============================] - 1s 31ms/step - loss: 0.0064 - mean_absolute_error: 0.0609 - val_loss: 0.0061 - val_mean_absolute_error: 0.0642\nEpoch 138/200\n23/23 [==============================] - 1s 31ms/step - loss: 0.0065 - mean_absolute_error: 0.0597 - val_loss: 0.0061 - val_mean_absolute_error: 0.0642\nEpoch 139/200\n23/23 [==============================] - 1s 31ms/step - loss: 0.0062 - mean_absolute_error: 0.0600 - val_loss: 0.0060 - val_mean_absolute_error: 0.0633\nEpoch 140/200\n23/23 [==============================] - 1s 31ms/step - loss: 0.0065 - mean_absolute_error: 0.0598 - val_loss: 0.0061 - val_mean_absolute_error: 0.0639\nEpoch 141/200\n23/23 [==============================] - 1s 31ms/step - loss: 0.0062 - mean_absolute_error: 0.0588 - val_loss: 0.0059 - val_mean_absolute_error: 0.0605\nEpoch 142/200\n23/23 [==============================] - 1s 32ms/step - loss: 0.0066 - mean_absolute_error: 0.0601 - val_loss: 0.0058 - val_mean_absolute_error: 0.0609\nEpoch 143/200\n23/23 [==============================] - 1s 31ms/step - loss: 0.0061 - mean_absolute_error: 0.0590 - val_loss: 0.0057 - val_mean_absolute_error: 0.0603\nEpoch 144/200\n23/23 [==============================] - 1s 32ms/step - loss: 0.0068 - mean_absolute_error: 0.0616 - val_loss: 0.0065 - val_mean_absolute_error: 0.0612\nEpoch 145/200\n23/23 [==============================] - 1s 33ms/step - loss: 0.0068 - mean_absolute_error: 0.0610 - val_loss: 0.0061 - val_mean_absolute_error: 0.0632\nEpoch 146/200\n23/23 [==============================] - 1s 32ms/step - loss: 0.0064 - mean_absolute_error: 0.0602 - val_loss: 0.0058 - val_mean_absolute_error: 0.0609\nEpoch 147/200\n23/23 [==============================] - 1s 31ms/step - loss: 0.0061 - mean_absolute_error: 0.0593 - val_loss: 0.0057 - val_mean_absolute_error: 0.0604\nEpoch 148/200\n23/23 [==============================] - 1s 33ms/step - loss: 0.0061 - mean_absolute_error: 0.0585 - val_loss: 0.0059 - val_mean_absolute_error: 0.0611\nEpoch 149/200\n23/23 [==============================] - 1s 31ms/step - loss: 0.0064 - mean_absolute_error: 0.0601 - val_loss: 0.0056 - val_mean_absolute_error: 0.0585\nEpoch 150/200\n23/23 [==============================] - 1s 30ms/step - loss: 0.0056 - mean_absolute_error: 0.0565 - val_loss: 0.0059 - val_mean_absolute_error: 0.0601\nEpoch 151/200\n23/23 [==============================] - 1s 30ms/step - loss: 0.0058 - mean_absolute_error: 0.0572 - val_loss: 0.0054 - val_mean_absolute_error: 0.0559\nEpoch 152/200\n23/23 [==============================] - 1s 30ms/step - loss: 0.0057 - mean_absolute_error: 0.0567 - val_loss: 0.0054 - val_mean_absolute_error: 0.0559\nEpoch 153/200\n23/23 [==============================] - 1s 30ms/step - loss: 0.0054 - mean_absolute_error: 0.0562 - val_loss: 0.0054 - val_mean_absolute_error: 0.0558\nEpoch 154/200\n23/23 [==============================] - 1s 31ms/step - loss: 0.0054 - mean_absolute_error: 0.0557 - val_loss: 0.0059 - val_mean_absolute_error: 0.0544\nEpoch 155/200\n23/23 [==============================] - 1s 30ms/step - loss: 0.0054 - mean_absolute_error: 0.0549 - val_loss: 0.0054 - val_mean_absolute_error: 0.0510\nEpoch 156/200\n23/23 [==============================] - 1s 30ms/step - loss: 0.0054 - mean_absolute_error: 0.0562 - val_loss: 0.0048 - val_mean_absolute_error: 0.0468\nEpoch 157/200\n23/23 [==============================] - 1s 30ms/step - loss: 0.0055 - mean_absolute_error: 0.0552 - val_loss: 0.0050 - val_mean_absolute_error: 0.0506\nEpoch 158/200\n23/23 [==============================] - 1s 30ms/step - loss: 0.0053 - mean_absolute_error: 0.0549 - val_loss: 0.0050 - val_mean_absolute_error: 0.0491\nEpoch 159/200\n23/23 [==============================] - 1s 30ms/step - loss: 0.0047 - mean_absolute_error: 0.0520 - val_loss: 0.0046 - val_mean_absolute_error: 0.0474\nEpoch 160/200\n23/23 [==============================] - 1s 31ms/step - loss: 0.0047 - mean_absolute_error: 0.0505 - val_loss: 0.0048 - val_mean_absolute_error: 0.0481\nEpoch 161/200\n23/23 [==============================] - 1s 30ms/step - loss: 0.0046 - mean_absolute_error: 0.0506 - val_loss: 0.0046 - val_mean_absolute_error: 0.0468\nEpoch 162/200\n23/23 [==============================] - 1s 31ms/step - loss: 0.0050 - mean_absolute_error: 0.0526 - val_loss: 0.0049 - val_mean_absolute_error: 0.0491\nEpoch 163/200\n23/23 [==============================] - 1s 32ms/step - loss: 0.0047 - mean_absolute_error: 0.0506 - val_loss: 0.0048 - val_mean_absolute_error: 0.0470\nEpoch 164/200\n23/23 [==============================] - 1s 30ms/step - loss: 0.0049 - mean_absolute_error: 0.0515 - val_loss: 0.0045 - val_mean_absolute_error: 0.0459\nEpoch 165/200\n23/23 [==============================] - 1s 30ms/step - loss: 0.0048 - mean_absolute_error: 0.0503 - val_loss: 0.0047 - val_mean_absolute_error: 0.0470\nEpoch 166/200\n23/23 [==============================] - 1s 32ms/step - loss: 0.0045 - mean_absolute_error: 0.0495 - val_loss: 0.0046 - val_mean_absolute_error: 0.0472\nEpoch 167/200\n23/23 [==============================] - 1s 33ms/step - loss: 0.0044 - mean_absolute_error: 0.0483 - val_loss: 0.0045 - val_mean_absolute_error: 0.0467\nEpoch 168/200\n23/23 [==============================] - 1s 35ms/step - loss: 0.0044 - mean_absolute_error: 0.0495 - val_loss: 0.0047 - val_mean_absolute_error: 0.0474\nEpoch 169/200\n23/23 [==============================] - 1s 36ms/step - loss: 0.0043 - mean_absolute_error: 0.0485 - val_loss: 0.0047 - val_mean_absolute_error: 0.0476\nEpoch 170/200\n23/23 [==============================] - 1s 32ms/step - loss: 0.0046 - mean_absolute_error: 0.0505 - val_loss: 0.0048 - val_mean_absolute_error: 0.0472\nEpoch 171/200\n23/23 [==============================] - 1s 32ms/step - loss: 0.0047 - mean_absolute_error: 0.0509 - val_loss: 0.0046 - val_mean_absolute_error: 0.0471\nEpoch 172/200\n23/23 [==============================] - 1s 33ms/step - loss: 0.0043 - mean_absolute_error: 0.0475 - val_loss: 0.0050 - val_mean_absolute_error: 0.0504\nEpoch 173/200\n23/23 [==============================] - 1s 35ms/step - loss: 0.0043 - mean_absolute_error: 0.0488 - val_loss: 0.0047 - val_mean_absolute_error: 0.0468\nEpoch 174/200\n23/23 [==============================] - 1s 34ms/step - loss: 0.0045 - mean_absolute_error: 0.0483 - val_loss: 0.0046 - val_mean_absolute_error: 0.0474\nEpoch 175/200\n23/23 [==============================] - 1s 31ms/step - loss: 0.0044 - mean_absolute_error: 0.0488 - val_loss: 0.0046 - val_mean_absolute_error: 0.0464\nEpoch 176/200\n23/23 [==============================] - 1s 31ms/step - loss: 0.0042 - mean_absolute_error: 0.0495 - val_loss: 0.0046 - val_mean_absolute_error: 0.0470\nEpoch 177/200\n23/23 [==============================] - 1s 32ms/step - loss: 0.0043 - mean_absolute_error: 0.0471 - val_loss: 0.0046 - val_mean_absolute_error: 0.0471\nEpoch 178/200\n23/23 [==============================] - 1s 32ms/step - loss: 0.0040 - mean_absolute_error: 0.0486 - val_loss: 0.0046 - val_mean_absolute_error: 0.0477\nEpoch 179/200\n23/23 [==============================] - 1s 32ms/step - loss: 0.0041 - mean_absolute_error: 0.0480 - val_loss: 0.0048 - val_mean_absolute_error: 0.0495\nEpoch 180/200\n23/23 [==============================] - 1s 31ms/step - loss: 0.0041 - mean_absolute_error: 0.0482 - val_loss: 0.0045 - val_mean_absolute_error: 0.0466\nEpoch 181/200\n23/23 [==============================] - 1s 31ms/step - loss: 0.0042 - mean_absolute_error: 0.0474 - val_loss: 0.0047 - val_mean_absolute_error: 0.0469\nEpoch 182/200\n23/23 [==============================] - 1s 31ms/step - loss: 0.0049 - mean_absolute_error: 0.0517 - val_loss: 0.0045 - val_mean_absolute_error: 0.0473\nEpoch 183/200\n23/23 [==============================] - 1s 33ms/step - loss: 0.0043 - mean_absolute_error: 0.0490 - val_loss: 0.0046 - val_mean_absolute_error: 0.0490\nEpoch 184/200\n23/23 [==============================] - 1s 33ms/step - loss: 0.0044 - mean_absolute_error: 0.0489 - val_loss: 0.0045 - val_mean_absolute_error: 0.0475\nEpoch 185/200\n23/23 [==============================] - 1s 34ms/step - loss: 0.0042 - mean_absolute_error: 0.0480 - val_loss: 0.0047 - val_mean_absolute_error: 0.0465\nEpoch 186/200\n23/23 [==============================] - 1s 35ms/step - loss: 0.0041 - mean_absolute_error: 0.0481 - val_loss: 0.0051 - val_mean_absolute_error: 0.0477\nEpoch 187/200\n23/23 [==============================] - 1s 31ms/step - loss: 0.0043 - mean_absolute_error: 0.0500 - val_loss: 0.0046 - val_mean_absolute_error: 0.0474\nEpoch 188/200\n23/23 [==============================] - 1s 31ms/step - loss: 0.0041 - mean_absolute_error: 0.0471 - val_loss: 0.0049 - val_mean_absolute_error: 0.0486\nEpoch 189/200\n23/23 [==============================] - 1s 31ms/step - loss: 0.0041 - mean_absolute_error: 0.0470 - val_loss: 0.0047 - val_mean_absolute_error: 0.0471\nEpoch 190/200\n23/23 [==============================] - 1s 31ms/step - loss: 0.0043 - mean_absolute_error: 0.0489 - val_loss: 0.0046 - val_mean_absolute_error: 0.0479\nEpoch 191/200\n23/23 [==============================] - 1s 30ms/step - loss: 0.0037 - mean_absolute_error: 0.0457 - val_loss: 0.0049 - val_mean_absolute_error: 0.0497\nEpoch 192/200\n23/23 [==============================] - 1s 31ms/step - loss: 0.0039 - mean_absolute_error: 0.0460 - val_loss: 0.0046 - val_mean_absolute_error: 0.0484\nEpoch 193/200\n23/23 [==============================] - 1s 31ms/step - loss: 0.0037 - mean_absolute_error: 0.0459 - val_loss: 0.0046 - val_mean_absolute_error: 0.0481\nEpoch 194/200\n23/23 [==============================] - 1s 31ms/step - loss: 0.0039 - mean_absolute_error: 0.0459 - val_loss: 0.0048 - val_mean_absolute_error: 0.0500\nEpoch 195/200\n23/23 [==============================] - 1s 31ms/step - loss: 0.0041 - mean_absolute_error: 0.0464 - val_loss: 0.0048 - val_mean_absolute_error: 0.0496\nEpoch 196/200\n23/23 [==============================] - 1s 30ms/step - loss: 0.0036 - mean_absolute_error: 0.0449 - val_loss: 0.0053 - val_mean_absolute_error: 0.0524\nEpoch 197/200\n23/23 [==============================] - 1s 30ms/step - loss: 0.0038 - mean_absolute_error: 0.0454 - val_loss: 0.0049 - val_mean_absolute_error: 0.0498\nEpoch 198/200\n23/23 [==============================] - 1s 31ms/step - loss: 0.0036 - mean_absolute_error: 0.0456 - val_loss: 0.0047 - val_mean_absolute_error: 0.0475\nEpoch 199/200\n23/23 [==============================] - 1s 30ms/step - loss: 0.0040 - mean_absolute_error: 0.0453 - val_loss: 0.0046 - val_mean_absolute_error: 0.0471\nEpoch 200/200\n23/23 [==============================] - 1s 30ms/step - loss: 0.0036 - mean_absolute_error: 0.0449 - val_loss: 0.0047 - val_mean_absolute_error: 0.0492\n"
    }
   ],
   "source": [
    "model = Sequential()\n",
    "\n",
    "model.add(LSTM(64, return_sequences=True, input_shape=(X_train.shape[1], 1)))\n",
    "model.add(Dropout(0.2))\n",
    "\n",
    "model.add(LSTM(64, return_sequences=True))\n",
    "model.add(Dropout(0.2))\n",
    "\n",
    "model.add(LSTM(64, return_sequences=True))\n",
    "model.add(Dropout(0.2))\n",
    "\n",
    "model.add(LSTM(64))\n",
    "model.add(Dropout(0.2))\n",
    "\n",
    "model.add(Dense(1))\n",
    "\n",
    "model.compile(optimizer = 'adam', loss = 'mean_squared_error', metrics=['mean_absolute_error'])\n",
    "\n",
    "early_stopping = EarlyStopping(monitor='loss')\n",
    "nn = model.fit(X_train, y_train, validation_data=(X_test, y_test), epochs = 200, batch_size = 32)"
   ]
  },
  {
   "cell_type": "code",
   "execution_count": 27,
   "metadata": {},
   "outputs": [
    {
     "output_type": "execute_result",
     "data": {
      "text/plain": "[<matplotlib.lines.Line2D at 0x22131d36348>]"
     },
     "metadata": {},
     "execution_count": 27
    },
    {
     "output_type": "display_data",
     "data": {
      "text/plain": "<Figure size 432x288 with 1 Axes>",
      "image/svg+xml": "<?xml version=\"1.0\" encoding=\"utf-8\" standalone=\"no\"?>\r\n<!DOCTYPE svg PUBLIC \"-//W3C//DTD SVG 1.1//EN\"\r\n  \"http://www.w3.org/Graphics/SVG/1.1/DTD/svg11.dtd\">\r\n<!-- Created with matplotlib (https://matplotlib.org/) -->\r\n<svg height=\"248.518125pt\" version=\"1.1\" viewBox=\"0 0 391.190625 248.518125\" width=\"391.190625pt\" xmlns=\"http://www.w3.org/2000/svg\" xmlns:xlink=\"http://www.w3.org/1999/xlink\">\r\n <defs>\r\n  <style type=\"text/css\">\r\n*{stroke-linecap:butt;stroke-linejoin:round;}\r\n  </style>\r\n </defs>\r\n <g id=\"figure_1\">\r\n  <g id=\"patch_1\">\r\n   <path d=\"M 0 248.518125 \r\nL 391.190625 248.518125 \r\nL 391.190625 0 \r\nL 0 0 \r\nz\r\n\" style=\"fill:none;\"/>\r\n  </g>\r\n  <g id=\"axes_1\">\r\n   <g id=\"patch_2\">\r\n    <path d=\"M 49.190625 224.64 \r\nL 383.990625 224.64 \r\nL 383.990625 7.2 \r\nL 49.190625 7.2 \r\nz\r\n\" style=\"fill:#ffffff;\"/>\r\n   </g>\r\n   <g id=\"matplotlib.axis_1\">\r\n    <g id=\"xtick_1\">\r\n     <g id=\"line2d_1\">\r\n      <defs>\r\n       <path d=\"M 0 0 \r\nL 0 3.5 \r\n\" id=\"mf9999ba3ce\" style=\"stroke:#000000;stroke-width:0.8;\"/>\r\n      </defs>\r\n      <g>\r\n       <use style=\"stroke:#000000;stroke-width:0.8;\" x=\"64.408807\" xlink:href=\"#mf9999ba3ce\" y=\"224.64\"/>\r\n      </g>\r\n     </g>\r\n     <g id=\"text_1\">\r\n      <!-- 0 -->\r\n      <defs>\r\n       <path d=\"M 31.78125 66.40625 \r\nQ 24.171875 66.40625 20.328125 58.90625 \r\nQ 16.5 51.421875 16.5 36.375 \r\nQ 16.5 21.390625 20.328125 13.890625 \r\nQ 24.171875 6.390625 31.78125 6.390625 \r\nQ 39.453125 6.390625 43.28125 13.890625 \r\nQ 47.125 21.390625 47.125 36.375 \r\nQ 47.125 51.421875 43.28125 58.90625 \r\nQ 39.453125 66.40625 31.78125 66.40625 \r\nz\r\nM 31.78125 74.21875 \r\nQ 44.046875 74.21875 50.515625 64.515625 \r\nQ 56.984375 54.828125 56.984375 36.375 \r\nQ 56.984375 17.96875 50.515625 8.265625 \r\nQ 44.046875 -1.421875 31.78125 -1.421875 \r\nQ 19.53125 -1.421875 13.0625 8.265625 \r\nQ 6.59375 17.96875 6.59375 36.375 \r\nQ 6.59375 54.828125 13.0625 64.515625 \r\nQ 19.53125 74.21875 31.78125 74.21875 \r\nz\r\n\" id=\"DejaVuSans-48\"/>\r\n      </defs>\r\n      <g transform=\"translate(61.227557 239.238438)scale(0.1 -0.1)\">\r\n       <use xlink:href=\"#DejaVuSans-48\"/>\r\n      </g>\r\n     </g>\r\n    </g>\r\n    <g id=\"xtick_2\">\r\n     <g id=\"line2d_2\">\r\n      <g>\r\n       <use style=\"stroke:#000000;stroke-width:0.8;\" x=\"102.645445\" xlink:href=\"#mf9999ba3ce\" y=\"224.64\"/>\r\n      </g>\r\n     </g>\r\n     <g id=\"text_2\">\r\n      <!-- 25 -->\r\n      <defs>\r\n       <path d=\"M 19.1875 8.296875 \r\nL 53.609375 8.296875 \r\nL 53.609375 0 \r\nL 7.328125 0 \r\nL 7.328125 8.296875 \r\nQ 12.9375 14.109375 22.625 23.890625 \r\nQ 32.328125 33.6875 34.8125 36.53125 \r\nQ 39.546875 41.84375 41.421875 45.53125 \r\nQ 43.3125 49.21875 43.3125 52.78125 \r\nQ 43.3125 58.59375 39.234375 62.25 \r\nQ 35.15625 65.921875 28.609375 65.921875 \r\nQ 23.96875 65.921875 18.8125 64.3125 \r\nQ 13.671875 62.703125 7.8125 59.421875 \r\nL 7.8125 69.390625 \r\nQ 13.765625 71.78125 18.9375 73 \r\nQ 24.125 74.21875 28.421875 74.21875 \r\nQ 39.75 74.21875 46.484375 68.546875 \r\nQ 53.21875 62.890625 53.21875 53.421875 \r\nQ 53.21875 48.921875 51.53125 44.890625 \r\nQ 49.859375 40.875 45.40625 35.40625 \r\nQ 44.1875 33.984375 37.640625 27.21875 \r\nQ 31.109375 20.453125 19.1875 8.296875 \r\nz\r\n\" id=\"DejaVuSans-50\"/>\r\n       <path d=\"M 10.796875 72.90625 \r\nL 49.515625 72.90625 \r\nL 49.515625 64.59375 \r\nL 19.828125 64.59375 \r\nL 19.828125 46.734375 \r\nQ 21.96875 47.46875 24.109375 47.828125 \r\nQ 26.265625 48.1875 28.421875 48.1875 \r\nQ 40.625 48.1875 47.75 41.5 \r\nQ 54.890625 34.8125 54.890625 23.390625 \r\nQ 54.890625 11.625 47.5625 5.09375 \r\nQ 40.234375 -1.421875 26.90625 -1.421875 \r\nQ 22.3125 -1.421875 17.546875 -0.640625 \r\nQ 12.796875 0.140625 7.71875 1.703125 \r\nL 7.71875 11.625 \r\nQ 12.109375 9.234375 16.796875 8.0625 \r\nQ 21.484375 6.890625 26.703125 6.890625 \r\nQ 35.15625 6.890625 40.078125 11.328125 \r\nQ 45.015625 15.765625 45.015625 23.390625 \r\nQ 45.015625 31 40.078125 35.4375 \r\nQ 35.15625 39.890625 26.703125 39.890625 \r\nQ 22.75 39.890625 18.8125 39.015625 \r\nQ 14.890625 38.140625 10.796875 36.28125 \r\nz\r\n\" id=\"DejaVuSans-53\"/>\r\n      </defs>\r\n      <g transform=\"translate(96.282945 239.238438)scale(0.1 -0.1)\">\r\n       <use xlink:href=\"#DejaVuSans-50\"/>\r\n       <use x=\"63.623047\" xlink:href=\"#DejaVuSans-53\"/>\r\n      </g>\r\n     </g>\r\n    </g>\r\n    <g id=\"xtick_3\">\r\n     <g id=\"line2d_3\">\r\n      <g>\r\n       <use style=\"stroke:#000000;stroke-width:0.8;\" x=\"140.882082\" xlink:href=\"#mf9999ba3ce\" y=\"224.64\"/>\r\n      </g>\r\n     </g>\r\n     <g id=\"text_3\">\r\n      <!-- 50 -->\r\n      <g transform=\"translate(134.519582 239.238438)scale(0.1 -0.1)\">\r\n       <use xlink:href=\"#DejaVuSans-53\"/>\r\n       <use x=\"63.623047\" xlink:href=\"#DejaVuSans-48\"/>\r\n      </g>\r\n     </g>\r\n    </g>\r\n    <g id=\"xtick_4\">\r\n     <g id=\"line2d_4\">\r\n      <g>\r\n       <use style=\"stroke:#000000;stroke-width:0.8;\" x=\"179.11872\" xlink:href=\"#mf9999ba3ce\" y=\"224.64\"/>\r\n      </g>\r\n     </g>\r\n     <g id=\"text_4\">\r\n      <!-- 75 -->\r\n      <defs>\r\n       <path d=\"M 8.203125 72.90625 \r\nL 55.078125 72.90625 \r\nL 55.078125 68.703125 \r\nL 28.609375 0 \r\nL 18.3125 0 \r\nL 43.21875 64.59375 \r\nL 8.203125 64.59375 \r\nz\r\n\" id=\"DejaVuSans-55\"/>\r\n      </defs>\r\n      <g transform=\"translate(172.75622 239.238438)scale(0.1 -0.1)\">\r\n       <use xlink:href=\"#DejaVuSans-55\"/>\r\n       <use x=\"63.623047\" xlink:href=\"#DejaVuSans-53\"/>\r\n      </g>\r\n     </g>\r\n    </g>\r\n    <g id=\"xtick_5\">\r\n     <g id=\"line2d_5\">\r\n      <g>\r\n       <use style=\"stroke:#000000;stroke-width:0.8;\" x=\"217.355358\" xlink:href=\"#mf9999ba3ce\" y=\"224.64\"/>\r\n      </g>\r\n     </g>\r\n     <g id=\"text_5\">\r\n      <!-- 100 -->\r\n      <defs>\r\n       <path d=\"M 12.40625 8.296875 \r\nL 28.515625 8.296875 \r\nL 28.515625 63.921875 \r\nL 10.984375 60.40625 \r\nL 10.984375 69.390625 \r\nL 28.421875 72.90625 \r\nL 38.28125 72.90625 \r\nL 38.28125 8.296875 \r\nL 54.390625 8.296875 \r\nL 54.390625 0 \r\nL 12.40625 0 \r\nz\r\n\" id=\"DejaVuSans-49\"/>\r\n      </defs>\r\n      <g transform=\"translate(207.811608 239.238438)scale(0.1 -0.1)\">\r\n       <use xlink:href=\"#DejaVuSans-49\"/>\r\n       <use x=\"63.623047\" xlink:href=\"#DejaVuSans-48\"/>\r\n       <use x=\"127.246094\" xlink:href=\"#DejaVuSans-48\"/>\r\n      </g>\r\n     </g>\r\n    </g>\r\n    <g id=\"xtick_6\">\r\n     <g id=\"line2d_6\">\r\n      <g>\r\n       <use style=\"stroke:#000000;stroke-width:0.8;\" x=\"255.591995\" xlink:href=\"#mf9999ba3ce\" y=\"224.64\"/>\r\n      </g>\r\n     </g>\r\n     <g id=\"text_6\">\r\n      <!-- 125 -->\r\n      <g transform=\"translate(246.048245 239.238438)scale(0.1 -0.1)\">\r\n       <use xlink:href=\"#DejaVuSans-49\"/>\r\n       <use x=\"63.623047\" xlink:href=\"#DejaVuSans-50\"/>\r\n       <use x=\"127.246094\" xlink:href=\"#DejaVuSans-53\"/>\r\n      </g>\r\n     </g>\r\n    </g>\r\n    <g id=\"xtick_7\">\r\n     <g id=\"line2d_7\">\r\n      <g>\r\n       <use style=\"stroke:#000000;stroke-width:0.8;\" x=\"293.828633\" xlink:href=\"#mf9999ba3ce\" y=\"224.64\"/>\r\n      </g>\r\n     </g>\r\n     <g id=\"text_7\">\r\n      <!-- 150 -->\r\n      <g transform=\"translate(284.284883 239.238438)scale(0.1 -0.1)\">\r\n       <use xlink:href=\"#DejaVuSans-49\"/>\r\n       <use x=\"63.623047\" xlink:href=\"#DejaVuSans-53\"/>\r\n       <use x=\"127.246094\" xlink:href=\"#DejaVuSans-48\"/>\r\n      </g>\r\n     </g>\r\n    </g>\r\n    <g id=\"xtick_8\">\r\n     <g id=\"line2d_8\">\r\n      <g>\r\n       <use style=\"stroke:#000000;stroke-width:0.8;\" x=\"332.065271\" xlink:href=\"#mf9999ba3ce\" y=\"224.64\"/>\r\n      </g>\r\n     </g>\r\n     <g id=\"text_8\">\r\n      <!-- 175 -->\r\n      <g transform=\"translate(322.521521 239.238438)scale(0.1 -0.1)\">\r\n       <use xlink:href=\"#DejaVuSans-49\"/>\r\n       <use x=\"63.623047\" xlink:href=\"#DejaVuSans-55\"/>\r\n       <use x=\"127.246094\" xlink:href=\"#DejaVuSans-53\"/>\r\n      </g>\r\n     </g>\r\n    </g>\r\n    <g id=\"xtick_9\">\r\n     <g id=\"line2d_9\">\r\n      <g>\r\n       <use style=\"stroke:#000000;stroke-width:0.8;\" x=\"370.301909\" xlink:href=\"#mf9999ba3ce\" y=\"224.64\"/>\r\n      </g>\r\n     </g>\r\n     <g id=\"text_9\">\r\n      <!-- 200 -->\r\n      <g transform=\"translate(360.758159 239.238438)scale(0.1 -0.1)\">\r\n       <use xlink:href=\"#DejaVuSans-50\"/>\r\n       <use x=\"63.623047\" xlink:href=\"#DejaVuSans-48\"/>\r\n       <use x=\"127.246094\" xlink:href=\"#DejaVuSans-48\"/>\r\n      </g>\r\n     </g>\r\n    </g>\r\n   </g>\r\n   <g id=\"matplotlib.axis_2\">\r\n    <g id=\"ytick_1\">\r\n     <g id=\"line2d_10\">\r\n      <defs>\r\n       <path d=\"M 0 0 \r\nL -3.5 0 \r\n\" id=\"mc6cd97e072\" style=\"stroke:#000000;stroke-width:0.8;\"/>\r\n      </defs>\r\n      <g>\r\n       <use style=\"stroke:#000000;stroke-width:0.8;\" x=\"49.190625\" xlink:href=\"#mc6cd97e072\" y=\"199.387278\"/>\r\n      </g>\r\n     </g>\r\n     <g id=\"text_10\">\r\n      <!-- 0.0050 -->\r\n      <defs>\r\n       <path d=\"M 10.6875 12.40625 \r\nL 21 12.40625 \r\nL 21 0 \r\nL 10.6875 0 \r\nz\r\n\" id=\"DejaVuSans-46\"/>\r\n      </defs>\r\n      <g transform=\"translate(7.2 203.186496)scale(0.1 -0.1)\">\r\n       <use xlink:href=\"#DejaVuSans-48\"/>\r\n       <use x=\"63.623047\" xlink:href=\"#DejaVuSans-46\"/>\r\n       <use x=\"95.410156\" xlink:href=\"#DejaVuSans-48\"/>\r\n       <use x=\"159.033203\" xlink:href=\"#DejaVuSans-48\"/>\r\n       <use x=\"222.65625\" xlink:href=\"#DejaVuSans-53\"/>\r\n       <use x=\"286.279297\" xlink:href=\"#DejaVuSans-48\"/>\r\n      </g>\r\n     </g>\r\n    </g>\r\n    <g id=\"ytick_2\">\r\n     <g id=\"line2d_11\">\r\n      <g>\r\n       <use style=\"stroke:#000000;stroke-width:0.8;\" x=\"49.190625\" xlink:href=\"#mc6cd97e072\" y=\"171.716151\"/>\r\n      </g>\r\n     </g>\r\n     <g id=\"text_11\">\r\n      <!-- 0.0075 -->\r\n      <g transform=\"translate(7.2 175.515369)scale(0.1 -0.1)\">\r\n       <use xlink:href=\"#DejaVuSans-48\"/>\r\n       <use x=\"63.623047\" xlink:href=\"#DejaVuSans-46\"/>\r\n       <use x=\"95.410156\" xlink:href=\"#DejaVuSans-48\"/>\r\n       <use x=\"159.033203\" xlink:href=\"#DejaVuSans-48\"/>\r\n       <use x=\"222.65625\" xlink:href=\"#DejaVuSans-55\"/>\r\n       <use x=\"286.279297\" xlink:href=\"#DejaVuSans-53\"/>\r\n      </g>\r\n     </g>\r\n    </g>\r\n    <g id=\"ytick_3\">\r\n     <g id=\"line2d_12\">\r\n      <g>\r\n       <use style=\"stroke:#000000;stroke-width:0.8;\" x=\"49.190625\" xlink:href=\"#mc6cd97e072\" y=\"144.045024\"/>\r\n      </g>\r\n     </g>\r\n     <g id=\"text_12\">\r\n      <!-- 0.0100 -->\r\n      <g transform=\"translate(7.2 147.844243)scale(0.1 -0.1)\">\r\n       <use xlink:href=\"#DejaVuSans-48\"/>\r\n       <use x=\"63.623047\" xlink:href=\"#DejaVuSans-46\"/>\r\n       <use x=\"95.410156\" xlink:href=\"#DejaVuSans-48\"/>\r\n       <use x=\"159.033203\" xlink:href=\"#DejaVuSans-49\"/>\r\n       <use x=\"222.65625\" xlink:href=\"#DejaVuSans-48\"/>\r\n       <use x=\"286.279297\" xlink:href=\"#DejaVuSans-48\"/>\r\n      </g>\r\n     </g>\r\n    </g>\r\n    <g id=\"ytick_4\">\r\n     <g id=\"line2d_13\">\r\n      <g>\r\n       <use style=\"stroke:#000000;stroke-width:0.8;\" x=\"49.190625\" xlink:href=\"#mc6cd97e072\" y=\"116.373897\"/>\r\n      </g>\r\n     </g>\r\n     <g id=\"text_13\">\r\n      <!-- 0.0125 -->\r\n      <g transform=\"translate(7.2 120.173116)scale(0.1 -0.1)\">\r\n       <use xlink:href=\"#DejaVuSans-48\"/>\r\n       <use x=\"63.623047\" xlink:href=\"#DejaVuSans-46\"/>\r\n       <use x=\"95.410156\" xlink:href=\"#DejaVuSans-48\"/>\r\n       <use x=\"159.033203\" xlink:href=\"#DejaVuSans-49\"/>\r\n       <use x=\"222.65625\" xlink:href=\"#DejaVuSans-50\"/>\r\n       <use x=\"286.279297\" xlink:href=\"#DejaVuSans-53\"/>\r\n      </g>\r\n     </g>\r\n    </g>\r\n    <g id=\"ytick_5\">\r\n     <g id=\"line2d_14\">\r\n      <g>\r\n       <use style=\"stroke:#000000;stroke-width:0.8;\" x=\"49.190625\" xlink:href=\"#mc6cd97e072\" y=\"88.70277\"/>\r\n      </g>\r\n     </g>\r\n     <g id=\"text_14\">\r\n      <!-- 0.0150 -->\r\n      <g transform=\"translate(7.2 92.501989)scale(0.1 -0.1)\">\r\n       <use xlink:href=\"#DejaVuSans-48\"/>\r\n       <use x=\"63.623047\" xlink:href=\"#DejaVuSans-46\"/>\r\n       <use x=\"95.410156\" xlink:href=\"#DejaVuSans-48\"/>\r\n       <use x=\"159.033203\" xlink:href=\"#DejaVuSans-49\"/>\r\n       <use x=\"222.65625\" xlink:href=\"#DejaVuSans-53\"/>\r\n       <use x=\"286.279297\" xlink:href=\"#DejaVuSans-48\"/>\r\n      </g>\r\n     </g>\r\n    </g>\r\n    <g id=\"ytick_6\">\r\n     <g id=\"line2d_15\">\r\n      <g>\r\n       <use style=\"stroke:#000000;stroke-width:0.8;\" x=\"49.190625\" xlink:href=\"#mc6cd97e072\" y=\"61.031643\"/>\r\n      </g>\r\n     </g>\r\n     <g id=\"text_15\">\r\n      <!-- 0.0175 -->\r\n      <g transform=\"translate(7.2 64.830862)scale(0.1 -0.1)\">\r\n       <use xlink:href=\"#DejaVuSans-48\"/>\r\n       <use x=\"63.623047\" xlink:href=\"#DejaVuSans-46\"/>\r\n       <use x=\"95.410156\" xlink:href=\"#DejaVuSans-48\"/>\r\n       <use x=\"159.033203\" xlink:href=\"#DejaVuSans-49\"/>\r\n       <use x=\"222.65625\" xlink:href=\"#DejaVuSans-55\"/>\r\n       <use x=\"286.279297\" xlink:href=\"#DejaVuSans-53\"/>\r\n      </g>\r\n     </g>\r\n    </g>\r\n    <g id=\"ytick_7\">\r\n     <g id=\"line2d_16\">\r\n      <g>\r\n       <use style=\"stroke:#000000;stroke-width:0.8;\" x=\"49.190625\" xlink:href=\"#mc6cd97e072\" y=\"33.360516\"/>\r\n      </g>\r\n     </g>\r\n     <g id=\"text_16\">\r\n      <!-- 0.0200 -->\r\n      <g transform=\"translate(7.2 37.159735)scale(0.1 -0.1)\">\r\n       <use xlink:href=\"#DejaVuSans-48\"/>\r\n       <use x=\"63.623047\" xlink:href=\"#DejaVuSans-46\"/>\r\n       <use x=\"95.410156\" xlink:href=\"#DejaVuSans-48\"/>\r\n       <use x=\"159.033203\" xlink:href=\"#DejaVuSans-50\"/>\r\n       <use x=\"222.65625\" xlink:href=\"#DejaVuSans-48\"/>\r\n       <use x=\"286.279297\" xlink:href=\"#DejaVuSans-48\"/>\r\n      </g>\r\n     </g>\r\n    </g>\r\n   </g>\r\n   <g id=\"line2d_17\">\r\n    <path clip-path=\"url(#pba6f07121c)\" d=\"M 64.408807 17.083636 \r\nL 65.938272 125.5593 \r\nL 67.467738 116.044751 \r\nL 68.997203 130.007248 \r\nL 70.526669 138.421417 \r\nL 72.056134 138.162153 \r\nL 73.5856 129.167864 \r\nL 75.115065 141.764181 \r\nL 76.644531 141.508412 \r\nL 78.173996 143.780052 \r\nL 79.703462 142.582093 \r\nL 81.232927 137.517204 \r\nL 82.762393 142.710999 \r\nL 84.291858 132.392104 \r\nL 85.821324 142.680764 \r\nL 87.350789 141.721639 \r\nL 88.880255 142.570486 \r\nL 90.40972 144.806201 \r\nL 91.939186 145.375776 \r\nL 93.468651 143.550486 \r\nL 94.998117 146.362775 \r\nL 96.527583 142.953573 \r\nL 98.057048 149.011039 \r\nL 99.586514 148.258327 \r\nL 101.115979 146.263063 \r\nL 102.645445 149.376932 \r\nL 104.17491 149.005369 \r\nL 105.704376 148.440309 \r\nL 107.233841 149.047458 \r\nL 108.763307 150.479538 \r\nL 110.292772 156.456764 \r\nL 111.822238 150.371621 \r\nL 113.351703 153.86667 \r\nL 114.881169 155.62475 \r\nL 116.410634 150.34853 \r\nL 117.9401 147.635757 \r\nL 119.469565 158.905129 \r\nL 120.999031 152.116537 \r\nL 122.528496 160.291244 \r\nL 124.057962 158.424174 \r\nL 125.587427 159.09343 \r\nL 127.116893 157.655412 \r\nL 128.646358 164.774735 \r\nL 130.175824 145.865585 \r\nL 131.705289 155.155011 \r\nL 133.234755 160.077471 \r\nL 134.76422 163.838247 \r\nL 136.293686 161.348133 \r\nL 137.823151 158.058488 \r\nL 139.352617 160.489999 \r\nL 140.882082 162.533351 \r\nL 142.411548 159.829041 \r\nL 143.941013 155.85613 \r\nL 145.470479 163.440821 \r\nL 146.999944 160.790444 \r\nL 148.52941 162.234843 \r\nL 150.058875 164.938349 \r\nL 151.588341 166.241276 \r\nL 153.117806 162.625033 \r\nL 154.647272 165.454258 \r\nL 156.176737 162.041397 \r\nL 157.706203 162.585191 \r\nL 159.235668 165.080624 \r\nL 160.765134 164.206779 \r\nL 162.294599 166.734673 \r\nL 163.824065 166.895998 \r\nL 165.35353 162.390241 \r\nL 166.882996 168.286968 \r\nL 168.412461 167.197773 \r\nL 169.941927 164.328252 \r\nL 171.471392 165.745282 \r\nL 173.000858 167.903922 \r\nL 174.530323 148.453473 \r\nL 176.059789 155.037466 \r\nL 177.589255 162.281086 \r\nL 179.11872 163.714671 \r\nL 180.648186 168.156187 \r\nL 182.177651 170.32029 \r\nL 183.707117 164.897085 \r\nL 185.236582 168.259002 \r\nL 186.766048 165.835408 \r\nL 188.295513 174.018815 \r\nL 189.824979 175.176287 \r\nL 191.354444 173.104397 \r\nL 192.88391 166.942931 \r\nL 194.413375 174.816157 \r\nL 195.942841 176.213678 \r\nL 197.472306 172.674948 \r\nL 199.001772 173.108489 \r\nL 200.531237 170.490444 \r\nL 202.060703 173.892843 \r\nL 203.590168 174.534761 \r\nL 205.119634 166.412487 \r\nL 206.649099 176.864044 \r\nL 208.178565 174.196587 \r\nL 209.70803 175.000242 \r\nL 211.237496 176.637391 \r\nL 212.766961 178.648653 \r\nL 214.296427 176.004889 \r\nL 215.825892 172.847597 \r\nL 217.355358 178.6514 \r\nL 218.884823 173.644304 \r\nL 220.414289 177.983598 \r\nL 221.943754 176.298495 \r\nL 223.47322 176.430472 \r\nL 225.002685 175.770365 \r\nL 226.532151 177.261424 \r\nL 228.061616 177.676766 \r\nL 229.591082 177.651995 \r\nL 231.120547 173.558946 \r\nL 232.650013 179.474626 \r\nL 234.179478 181.038405 \r\nL 235.708944 178.609786 \r\nL 237.238409 182.249177 \r\nL 238.767875 183.302948 \r\nL 240.29734 181.5244 \r\nL 241.826806 178.146845 \r\nL 243.356271 179.244334 \r\nL 244.885737 178.32222 \r\nL 246.415202 179.706382 \r\nL 247.944668 177.810104 \r\nL 249.474133 180.528593 \r\nL 251.003599 178.053127 \r\nL 252.533064 179.77401 \r\nL 254.06253 179.112707 \r\nL 255.591995 183.063857 \r\nL 257.121461 181.673268 \r\nL 258.650927 177.725973 \r\nL 260.180392 176.61514 \r\nL 261.709858 179.029663 \r\nL 263.239323 180.752979 \r\nL 266.298254 183.260941 \r\nL 267.82772 182.274618 \r\nL 269.357185 181.6334 \r\nL 270.886651 178.425324 \r\nL 272.416116 183.631617 \r\nL 273.945582 183.207694 \r\nL 275.475047 185.753812 \r\nL 277.004513 183.189464 \r\nL 278.533978 185.968117 \r\nL 280.063444 181.91124 \r\nL 281.592909 187.08114 \r\nL 283.122375 179.461581 \r\nL 284.65184 179.661634 \r\nL 286.181306 183.678561 \r\nL 287.710771 186.66586 \r\nL 289.240237 187.0263 \r\nL 290.769702 183.478101 \r\nL 292.299168 193.117921 \r\nL 293.828633 190.022834 \r\nL 295.358099 191.243213 \r\nL 296.887564 195.084183 \r\nL 298.41703 195.088574 \r\nL 299.946495 194.820919 \r\nL 301.475961 195.14727 \r\nL 303.005426 193.300002 \r\nL 304.534892 195.529842 \r\nL 306.064357 202.291802 \r\nL 307.593823 202.270324 \r\nL 309.123288 204.006278 \r\nL 310.652754 199.551217 \r\nL 312.182219 202.31784 \r\nL 313.711685 200.749299 \r\nL 315.24115 201.752605 \r\nL 316.770616 204.716932 \r\nL 318.300081 206.465317 \r\nL 319.829547 205.540384 \r\nL 321.359012 207.432993 \r\nL 322.888478 204.317315 \r\nL 324.417943 203.090597 \r\nL 325.947409 207.601297 \r\nL 327.476874 207.155921 \r\nL 329.00634 205.367169 \r\nL 330.535805 206.381227 \r\nL 332.065271 208.003671 \r\nL 333.594736 207.400955 \r\nL 335.124202 210.118789 \r\nL 336.653667 208.819768 \r\nL 338.183133 209.322236 \r\nL 339.712599 208.448371 \r\nL 341.242064 200.58399 \r\nL 342.77153 207.46934 \r\nL 344.300995 206.526899 \r\nL 345.830461 208.514308 \r\nL 347.359926 209.723234 \r\nL 348.889392 206.624163 \r\nL 350.418857 209.746448 \r\nL 351.948323 208.826757 \r\nL 353.477788 207.121188 \r\nL 355.007254 214.210928 \r\nL 356.536719 211.544447 \r\nL 358.066185 213.420377 \r\nL 359.59565 212.107974 \r\nL 361.125116 209.845393 \r\nL 362.654581 214.756364 \r\nL 364.184047 212.699549 \r\nL 365.713512 214.675634 \r\nL 367.242978 210.796256 \r\nL 368.772443 214.535439 \r\nL 368.772443 214.535439 \r\n\" style=\"fill:none;stroke:#1f77b4;stroke-linecap:square;stroke-width:1.5;\"/>\r\n   </g>\r\n   <g id=\"line2d_18\">\r\n    <path clip-path=\"url(#pba6f07121c)\" d=\"M 64.408807 172.605367 \r\nL 65.938272 189.780656 \r\nL 67.467738 180.57514 \r\nL 68.997203 191.281668 \r\nL 70.526669 189.989807 \r\nL 72.056134 165.187974 \r\nL 73.5856 189.443791 \r\nL 75.115065 187.412253 \r\nL 76.644531 190.56017 \r\nL 78.173996 189.03414 \r\nL 79.703462 184.620126 \r\nL 81.232927 185.725011 \r\nL 82.762393 188.044796 \r\nL 84.291858 178.445652 \r\nL 85.821324 186.354328 \r\nL 87.350789 189.359485 \r\nL 88.880255 188.909682 \r\nL 90.40972 182.79328 \r\nL 91.939186 186.824618 \r\nL 93.468651 188.048914 \r\nL 94.998117 183.81009 \r\nL 96.527583 187.785439 \r\nL 98.057048 187.456269 \r\nL 99.586514 178.892197 \r\nL 101.115979 186.284113 \r\nL 102.645445 184.21984 \r\nL 104.17491 177.729472 \r\nL 105.704376 184.077992 \r\nL 107.233841 184.012035 \r\nL 108.763307 183.800689 \r\nL 110.292772 171.456791 \r\nL 111.822238 183.057682 \r\nL 114.881169 179.239777 \r\nL 116.410634 158.178693 \r\nL 117.9401 166.241555 \r\nL 119.469565 178.249531 \r\nL 120.999031 179.528173 \r\nL 122.528496 175.081766 \r\nL 124.057962 175.828416 \r\nL 125.587427 179.940051 \r\nL 127.116893 180.802005 \r\nL 128.646358 164.756418 \r\nL 130.175824 182.875942 \r\nL 131.705289 177.892204 \r\nL 134.76422 176.289223 \r\nL 136.293686 179.454685 \r\nL 137.823151 178.743124 \r\nL 139.352617 181.32711 \r\nL 140.882082 174.19771 \r\nL 142.411548 179.327053 \r\nL 143.941013 177.867696 \r\nL 145.470479 180.503982 \r\nL 146.999944 177.914403 \r\nL 148.52941 173.159459 \r\nL 150.058875 178.45696 \r\nL 151.588341 181.738849 \r\nL 153.117806 182.599221 \r\nL 154.647272 181.762599 \r\nL 156.176737 178.537906 \r\nL 159.235668 180.412078 \r\nL 160.765134 179.233206 \r\nL 162.294599 181.389057 \r\nL 163.824065 178.225271 \r\nL 165.35353 179.057676 \r\nL 166.882996 181.550743 \r\nL 168.412461 184.315527 \r\nL 169.941927 173.509956 \r\nL 171.471392 181.917002 \r\nL 173.000858 184.018302 \r\nL 174.530323 184.565647 \r\nL 176.059789 182.456105 \r\nL 177.589255 181.875522 \r\nL 179.11872 180.05068 \r\nL 180.648186 177.583301 \r\nL 182.177651 172.885124 \r\nL 183.707117 181.993283 \r\nL 185.236582 181.340541 \r\nL 186.766048 180.86153 \r\nL 188.295513 181.916317 \r\nL 189.824979 178.691701 \r\nL 191.354444 183.270925 \r\nL 192.88391 184.2212 \r\nL 194.413375 181.207152 \r\nL 195.942841 183.371946 \r\nL 197.472306 180.358676 \r\nL 199.001772 175.87585 \r\nL 200.531237 182.360692 \r\nL 202.060703 185.405062 \r\nL 203.590168 180.036892 \r\nL 205.119634 181.331728 \r\nL 206.649099 185.630649 \r\nL 208.178565 184.687105 \r\nL 209.70803 180.28091 \r\nL 211.237496 183.971503 \r\nL 212.766961 181.910188 \r\nL 214.296427 184.917598 \r\nL 215.825892 186.756671 \r\nL 217.355358 176.916586 \r\nL 218.884823 184.181617 \r\nL 220.414289 185.293769 \r\nL 221.943754 185.166234 \r\nL 223.47322 186.988973 \r\nL 225.002685 187.621305 \r\nL 226.532151 186.329026 \r\nL 228.061616 185.316091 \r\nL 229.591082 185.07816 \r\nL 231.120547 186.454266 \r\nL 232.650013 185.94667 \r\nL 234.179478 187.344249 \r\nL 235.708944 184.784585 \r\nL 237.238409 186.653253 \r\nL 238.767875 187.518119 \r\nL 240.29734 187.539364 \r\nL 241.826806 184.197873 \r\nL 243.356271 188.339175 \r\nL 244.885737 187.541916 \r\nL 246.415202 188.19791 \r\nL 247.944668 186.66421 \r\nL 249.474133 188.943184 \r\nL 251.003599 187.436689 \r\nL 252.533064 186.092023 \r\nL 254.06253 188.400535 \r\nL 255.591995 189.005617 \r\nL 257.121461 189.778811 \r\nL 258.650927 184.533949 \r\nL 260.180392 190.361555 \r\nL 261.709858 184.730497 \r\nL 263.239323 181.211275 \r\nL 264.768789 189.571656 \r\nL 266.298254 186.727864 \r\nL 267.82772 188.584564 \r\nL 269.357185 189.409568 \r\nL 270.886651 187.996037 \r\nL 273.945582 187.231584 \r\nL 275.475047 188.754816 \r\nL 277.004513 187.405594 \r\nL 278.533978 189.411238 \r\nL 281.592909 191.331452 \r\nL 283.122375 183.236258 \r\nL 284.65184 186.673519 \r\nL 286.181306 190.839705 \r\nL 287.710771 191.104706 \r\nL 289.240237 188.953436 \r\nL 290.769702 192.813347 \r\nL 292.299168 189.002318 \r\nL 293.828633 195.236601 \r\nL 295.358099 195.171041 \r\nL 296.887564 194.467705 \r\nL 298.41703 189.540829 \r\nL 299.946495 194.57052 \r\nL 301.475961 201.525591 \r\nL 303.005426 199.152956 \r\nL 304.534892 199.310539 \r\nL 306.064357 203.613722 \r\nL 307.593823 201.801781 \r\nL 309.123288 204.162825 \r\nL 310.652754 200.989791 \r\nL 312.182219 201.962823 \r\nL 313.711685 204.807779 \r\nL 315.24115 202.769096 \r\nL 316.770616 203.970137 \r\nL 318.300081 204.619596 \r\nL 319.829547 202.914758 \r\nL 321.359012 203.14052 \r\nL 322.888478 201.269842 \r\nL 324.417943 203.77714 \r\nL 325.947409 199.498402 \r\nL 327.476874 203.103008 \r\nL 329.00634 203.829356 \r\nL 330.535805 203.383157 \r\nL 332.065271 203.873476 \r\nL 333.594736 203.39598 \r\nL 335.124202 203.420359 \r\nL 336.653667 201.603475 \r\nL 338.183133 204.738007 \r\nL 339.712599 202.64534 \r\nL 341.242064 204.538825 \r\nL 342.77153 204.063174 \r\nL 344.300995 204.691888 \r\nL 345.830461 202.722369 \r\nL 347.359926 197.813191 \r\nL 348.889392 203.849391 \r\nL 350.418857 200.574094 \r\nL 351.948323 203.029262 \r\nL 353.477788 203.738968 \r\nL 355.007254 200.170916 \r\nL 356.536719 203.659063 \r\nL 358.066185 204.077575 \r\nL 359.59565 201.712449 \r\nL 361.125116 202.00371 \r\nL 362.654581 196.310504 \r\nL 364.184047 200.264103 \r\nL 365.713512 203.175022 \r\nL 367.242978 203.561439 \r\nL 368.772443 202.946574 \r\nL 368.772443 202.946574 \r\n\" style=\"fill:none;stroke:#bfbf00;stroke-linecap:square;stroke-width:1.5;\"/>\r\n   </g>\r\n   <g id=\"patch_3\">\r\n    <path d=\"M 49.190625 224.64 \r\nL 49.190625 7.2 \r\n\" style=\"fill:none;stroke:#000000;stroke-linecap:square;stroke-linejoin:miter;stroke-width:0.8;\"/>\r\n   </g>\r\n   <g id=\"patch_4\">\r\n    <path d=\"M 383.990625 224.64 \r\nL 383.990625 7.2 \r\n\" style=\"fill:none;stroke:#000000;stroke-linecap:square;stroke-linejoin:miter;stroke-width:0.8;\"/>\r\n   </g>\r\n   <g id=\"patch_5\">\r\n    <path d=\"M 49.190625 224.64 \r\nL 383.990625 224.64 \r\n\" style=\"fill:none;stroke:#000000;stroke-linecap:square;stroke-linejoin:miter;stroke-width:0.8;\"/>\r\n   </g>\r\n   <g id=\"patch_6\">\r\n    <path d=\"M 49.190625 7.2 \r\nL 383.990625 7.2 \r\n\" style=\"fill:none;stroke:#000000;stroke-linecap:square;stroke-linejoin:miter;stroke-width:0.8;\"/>\r\n   </g>\r\n  </g>\r\n </g>\r\n <defs>\r\n  <clipPath id=\"pba6f07121c\">\r\n   <rect height=\"217.44\" width=\"334.8\" x=\"49.190625\" y=\"7.2\"/>\r\n  </clipPath>\r\n </defs>\r\n</svg>\r\n",
      "image/png": "[encoded data removed]"
     },
     "metadata": {
      "needs_background": "light"
     }
    }
   ],
   "source": [
    "fig, ax = plt.subplots()\n",
    "ax.plot(nn.history['loss'])\n",
    "ax.plot(nn.history['val_loss'], color='y')"
   ]
  },
  {
   "cell_type": "code",
   "execution_count": 24,
   "metadata": {},
   "outputs": [],
   "source": [
    "pred = model.predict(X_test)\n",
    "pred = sc.inverse_transform(pred)\n",
    "real = test_set.values"
   ]
  },
  {
   "cell_type": "code",
   "execution_count": 25,
   "metadata": {},
   "outputs": [
    {
     "output_type": "display_data",
     "data": {
      "application/vnd.plotly.v1+json": {
       "config": {
        "plotlyServerURL": "https://plot.ly"
       },
       "data": [
        {
         "name": "real",
         "type": "scatter",
         "x": [
          "2020-07-14",
          "2020-07-15",
          "2020-07-16",
          "2020-07-17",
          "2020-07-18",
          "2020-07-19",
          "2020-07-20",
          "2020-07-21",
          "2020-07-22",
          "2020-07-23",
          "2020-07-24",
          "2020-07-25",
          "2020-07-26",
          "2020-07-27",
          "2020-07-28",
          "2020-07-29",
          "2020-07-30",
          "2020-07-31",
          "2020-08-01",
          "2020-08-02",
          "2020-08-03",
          "2020-08-04",
          "2020-08-05",
          "2020-08-06",
          "2020-08-07",
          "2020-08-08",
          "2020-08-09",
          "2020-08-10",
          "2020-08-11",
          "2020-08-12",
          "2020-08-13",
          "2020-08-14",
          "2020-08-15",
          "2020-08-16",
          "2020-08-17",
          "2020-08-18",
          "2020-08-19",
          "2020-08-20",
          "2020-08-21",
          "2020-08-31"
         ],
         "y": [
          551457818,
          556849922,
          417822393,
          625462756,
          990994320,
          1086362805,
          763872311,
          761018186,
          682682785,
          562838567,
          843212578,
          877263004,
          903318255,
          623565079,
          708788574,
          489909859,
          757493140,
          815172365,
          1000943279,
          773483995,
          1161374066,
          750622134,
          554605323,
          726910982,
          903697785,
          1098221846,
          987108001,
          507958746,
          605194707,
          622550913,
          595589067,
          999723672,
          1247216563,
          1120770465,
          745893563,
          555684239,
          618222406,
          586275957,
          661055223,
          17111818
         ]
        },
        {
         "name": "pred",
         "type": "scatter",
         "x": [
          "2020-07-14",
          "2020-07-15",
          "2020-07-16",
          "2020-07-17",
          "2020-07-18",
          "2020-07-19",
          "2020-07-20",
          "2020-07-21",
          "2020-07-22",
          "2020-07-23",
          "2020-07-24",
          "2020-07-25",
          "2020-07-26",
          "2020-07-27",
          "2020-07-28",
          "2020-07-29",
          "2020-07-30",
          "2020-07-31",
          "2020-08-01",
          "2020-08-02",
          "2020-08-03",
          "2020-08-04",
          "2020-08-05",
          "2020-08-06",
          "2020-08-07",
          "2020-08-08",
          "2020-08-09",
          "2020-08-10",
          "2020-08-11",
          "2020-08-12",
          "2020-08-13",
          "2020-08-14",
          "2020-08-15",
          "2020-08-16",
          "2020-08-17",
          "2020-08-18",
          "2020-08-19",
          "2020-08-20",
          "2020-08-21",
          "2020-08-31"
         ],
         "y": [
          588413248,
          546981248,
          546751424,
          561078208,
          661421184,
          864035072,
          679486592,
          575747136,
          601716352,
          611638400,
          610965312,
          723125248,
          949761024,
          912674368,
          584201792,
          589368896,
          580261504,
          633679168,
          796923520,
          1015474048,
          777827008,
          672301440,
          715279040,
          711781952,
          720947904,
          854636928,
          1045004544,
          697063104,
          607768832,
          589168192,
          588389056,
          641083072,
          872249920,
          1058377152,
          671625792,
          677035136,
          643490880,
          613362176,
          638085696,
          820178048
         ]
        }
       ],
       "layout": {
        "template": {
         "data": {
          "bar": [
           {
            "error_x": {
             "color": "#2a3f5f"
            },
            "error_y": {
             "color": "#2a3f5f"
            },
            "marker": {
             "line": {
              "color": "#E5ECF6",
              "width": 0.5
             }
            },
            "type": "bar"
           }
          ],
          "barpolar": [
           {
            "marker": {
             "line": {
              "color": "#E5ECF6",
              "width": 0.5
             }
            },
            "type": "barpolar"
           }
          ],
          "carpet": [
           {
            "aaxis": {
             "endlinecolor": "#2a3f5f",
             "gridcolor": "white",
             "linecolor": "white",
             "minorgridcolor": "white",
             "startlinecolor": "#2a3f5f"
            },
            "baxis": {
             "endlinecolor": "#2a3f5f",
             "gridcolor": "white",
             "linecolor": "white",
             "minorgridcolor": "white",
             "startlinecolor": "#2a3f5f"
            },
            "type": "carpet"
           }
          ],
          "choropleth": [
           {
            "colorbar": {
             "outlinewidth": 0,
             "ticks": ""
            },
            "type": "choropleth"
           }
          ],
          "contour": [
           {
            "colorbar": {
             "outlinewidth": 0,
             "ticks": ""
            },
            "colorscale": [
             [
              0,
              "#0d0887"
             ],
             [
              0.1111111111111111,
              "#46039f"
             ],
             [
              0.2222222222222222,
              "#7201a8"
             ],
             [
              0.3333333333333333,
              "#9c179e"
             ],
             [
              0.4444444444444444,
              "#bd3786"
             ],
             [
              0.5555555555555556,
              "#d8576b"
             ],
             [
              0.6666666666666666,
              "#ed7953"
             ],
             [
              0.7777777777777778,
              "#fb9f3a"
             ],
             [
              0.8888888888888888,
              "#fdca26"
             ],
             [
              1,
              "#f0f921"
             ]
            ],
            "type": "contour"
           }
          ],
          "contourcarpet": [
           {
            "colorbar": {
             "outlinewidth": 0,
             "ticks": ""
            },
            "type": "contourcarpet"
           }
          ],
          "heatmap": [
           {
            "colorbar": {
             "outlinewidth": 0,
             "ticks": ""
            },
            "colorscale": [
             [
              0,
              "#0d0887"
             ],
             [
              0.1111111111111111,
              "#46039f"
             ],
             [
              0.2222222222222222,
              "#7201a8"
             ],
             [
              0.3333333333333333,
              "#9c179e"
             ],
             [
              0.4444444444444444,
              "#bd3786"
             ],
             [
              0.5555555555555556,
              "#d8576b"
             ],
             [
              0.6666666666666666,
              "#ed7953"
             ],
             [
              0.7777777777777778,
              "#fb9f3a"
             ],
             [
              0.8888888888888888,
              "#fdca26"
             ],
             [
              1,
              "#f0f921"
             ]
            ],
            "type": "heatmap"
           }
          ],
          "heatmapgl": [
           {
            "colorbar": {
             "outlinewidth": 0,
             "ticks": ""
            },
            "colorscale": [
             [
              0,
              "#0d0887"
             ],
             [
              0.1111111111111111,
              "#46039f"
             ],
             [
              0.2222222222222222,
              "#7201a8"
             ],
             [
              0.3333333333333333,
              "#9c179e"
             ],
             [
              0.4444444444444444,
              "#bd3786"
             ],
             [
              0.5555555555555556,
              "#d8576b"
             ],
             [
              0.6666666666666666,
              "#ed7953"
             ],
             [
              0.7777777777777778,
              "#fb9f3a"
             ],
             [
              0.8888888888888888,
              "#fdca26"
             ],
             [
              1,
              "#f0f921"
             ]
            ],
            "type": "heatmapgl"
           }
          ],
          "histogram": [
           {
            "marker": {
             "colorbar": {
              "outlinewidth": 0,
              "ticks": ""
             }
            },
            "type": "histogram"
           }
          ],
          "histogram2d": [
           {
            "colorbar": {
             "outlinewidth": 0,
             "ticks": ""
            },
            "colorscale": [
             [
              0,
              "#0d0887"
             ],
             [
              0.1111111111111111,
              "#46039f"
             ],
             [
              0.2222222222222222,
              "#7201a8"
             ],
             [
              0.3333333333333333,
              "#9c179e"
             ],
             [
              0.4444444444444444,
              "#bd3786"
             ],
             [
              0.5555555555555556,
              "#d8576b"
             ],
             [
              0.6666666666666666,
              "#ed7953"
             ],
             [
              0.7777777777777778,
              "#fb9f3a"
             ],
             [
              0.8888888888888888,
              "#fdca26"
             ],
             [
              1,
              "#f0f921"
             ]
            ],
            "type": "histogram2d"
           }
          ],
          "histogram2dcontour": [
           {
            "colorbar": {
             "outlinewidth": 0,
             "ticks": ""
            },
            "colorscale": [
             [
              0,
              "#0d0887"
             ],
             [
              0.1111111111111111,
              "#46039f"
             ],
             [
              0.2222222222222222,
              "#7201a8"
             ],
             [
              0.3333333333333333,
              "#9c179e"
             ],
             [
              0.4444444444444444,
              "#bd3786"
             ],
             [
              0.5555555555555556,
              "#d8576b"
             ],
             [
              0.6666666666666666,
              "#ed7953"
             ],
             [
              0.7777777777777778,
              "#fb9f3a"
             ],
             [
              0.8888888888888888,
              "#fdca26"
             ],
             [
              1,
              "#f0f921"
             ]
            ],
            "type": "histogram2dcontour"
           }
          ],
          "mesh3d": [
           {
            "colorbar": {
             "outlinewidth": 0,
             "ticks": ""
            },
            "type": "mesh3d"
           }
          ],
          "parcoords": [
           {
            "line": {
             "colorbar": {
              "outlinewidth": 0,
              "ticks": ""
             }
            },
            "type": "parcoords"
           }
          ],
          "pie": [
           {
            "automargin": true,
            "type": "pie"
           }
          ],
          "scatter": [
           {
            "marker": {
             "colorbar": {
              "outlinewidth": 0,
              "ticks": ""
             }
            },
            "type": "scatter"
           }
          ],
          "scatter3d": [
           {
            "line": {
             "colorbar": {
              "outlinewidth": 0,
              "ticks": ""
             }
            },
            "marker": {
             "colorbar": {
              "outlinewidth": 0,
              "ticks": ""
             }
            },
            "type": "scatter3d"
           }
          ],
          "scattercarpet": [
           {
            "marker": {
             "colorbar": {
              "outlinewidth": 0,
              "ticks": ""
             }
            },
            "type": "scattercarpet"
           }
          ],
          "scattergeo": [
           {
            "marker": {
             "colorbar": {
              "outlinewidth": 0,
              "ticks": ""
             }
            },
            "type": "scattergeo"
           }
          ],
          "scattergl": [
           {
            "marker": {
             "colorbar": {
              "outlinewidth": 0,
              "ticks": ""
             }
            },
            "type": "scattergl"
           }
          ],
          "scattermapbox": [
           {
            "marker": {
             "colorbar": {
              "outlinewidth": 0,
              "ticks": ""
             }
            },
            "type": "scattermapbox"
           }
          ],
          "scatterpolar": [
           {
            "marker": {
             "colorbar": {
              "outlinewidth": 0,
              "ticks": ""
             }
            },
            "type": "scatterpolar"
           }
          ],
          "scatterpolargl": [
           {
            "marker": {
             "colorbar": {
              "outlinewidth": 0,
              "ticks": ""
             }
            },
            "type": "scatterpolargl"
           }
          ],
          "scatterternary": [
           {
            "marker": {
             "colorbar": {
              "outlinewidth": 0,
              "ticks": ""
             }
            },
            "type": "scatterternary"
           }
          ],
          "surface": [
           {
            "colorbar": {
             "outlinewidth": 0,
             "ticks": ""
            },
            "colorscale": [
             [
              0,
              "#0d0887"
             ],
             [
              0.1111111111111111,
              "#46039f"
             ],
             [
              0.2222222222222222,
              "#7201a8"
             ],
             [
              0.3333333333333333,
              "#9c179e"
             ],
             [
              0.4444444444444444,
              "#bd3786"
             ],
             [
              0.5555555555555556,
              "#d8576b"
             ],
             [
              0.6666666666666666,
              "#ed7953"
             ],
             [
              0.7777777777777778,
              "#fb9f3a"
             ],
             [
              0.8888888888888888,
              "#fdca26"
             ],
             [
              1,
              "#f0f921"
             ]
            ],
            "type": "surface"
           }
          ],
          "table": [
           {
            "cells": {
             "fill": {
              "color": "#EBF0F8"
             },
             "line": {
              "color": "white"
             }
            },
            "header": {
             "fill": {
              "color": "#C8D4E3"
             },
             "line": {
              "color": "white"
             }
            },
            "type": "table"
           }
          ]
         },
         "layout": {
          "annotationdefaults": {
           "arrowcolor": "#2a3f5f",
           "arrowhead": 0,
           "arrowwidth": 1
          },
          "coloraxis": {
           "colorbar": {
            "outlinewidth": 0,
            "ticks": ""
           }
          },
          "colorscale": {
           "diverging": [
            [
             0,
             "#8e0152"
            ],
            [
             0.1,
             "#c51b7d"
            ],
            [
             0.2,
             "#de77ae"
            ],
            [
             0.3,
             "#f1b6da"
            ],
            [
             0.4,
             "#fde0ef"
            ],
            [
             0.5,
             "#f7f7f7"
            ],
            [
             0.6,
             "#e6f5d0"
            ],
            [
             0.7,
             "#b8e186"
            ],
            [
             0.8,
             "#7fbc41"
            ],
            [
             0.9,
             "#4d9221"
            ],
            [
             1,
             "#276419"
            ]
           ],
           "sequential": [
            [
             0,
             "#0d0887"
            ],
            [
             0.1111111111111111,
             "#46039f"
            ],
            [
             0.2222222222222222,
             "#7201a8"
            ],
            [
             0.3333333333333333,
             "#9c179e"
            ],
            [
             0.4444444444444444,
             "#bd3786"
            ],
            [
             0.5555555555555556,
             "#d8576b"
            ],
            [
             0.6666666666666666,
             "#ed7953"
            ],
            [
             0.7777777777777778,
             "#fb9f3a"
            ],
            [
             0.8888888888888888,
             "#fdca26"
            ],
            [
             1,
             "#f0f921"
            ]
           ],
           "sequentialminus": [
            [
             0,
             "#0d0887"
            ],
            [
             0.1111111111111111,
             "#46039f"
            ],
            [
             0.2222222222222222,
             "#7201a8"
            ],
            [
             0.3333333333333333,
             "#9c179e"
            ],
            [
             0.4444444444444444,
             "#bd3786"
            ],
            [
             0.5555555555555556,
             "#d8576b"
            ],
            [
             0.6666666666666666,
             "#ed7953"
            ],
            [
             0.7777777777777778,
             "#fb9f3a"
            ],
            [
             0.8888888888888888,
             "#fdca26"
            ],
            [
             1,
             "#f0f921"
            ]
           ]
          },
          "colorway": [
           "#636efa",
           "#EF553B",
           "#00cc96",
           "#ab63fa",
           "#FFA15A",
           "#19d3f3",
           "#FF6692",
           "#B6E880",
           "#FF97FF",
           "#FECB52"
          ],
          "font": {
           "color": "#2a3f5f"
          },
          "geo": {
           "bgcolor": "white",
           "lakecolor": "white",
           "landcolor": "#E5ECF6",
           "showlakes": true,
           "showland": true,
           "subunitcolor": "white"
          },
          "hoverlabel": {
           "align": "left"
          },
          "hovermode": "closest",
          "mapbox": {
           "style": "light"
          },
          "paper_bgcolor": "white",
          "plot_bgcolor": "#E5ECF6",
          "polar": {
           "angularaxis": {
            "gridcolor": "white",
            "linecolor": "white",
            "ticks": ""
           },
           "bgcolor": "#E5ECF6",
           "radialaxis": {
            "gridcolor": "white",
            "linecolor": "white",
            "ticks": ""
           }
          },
          "scene": {
           "xaxis": {
            "backgroundcolor": "#E5ECF6",
            "gridcolor": "white",
            "gridwidth": 2,
            "linecolor": "white",
            "showbackground": true,
            "ticks": "",
            "zerolinecolor": "white"
           },
           "yaxis": {
            "backgroundcolor": "#E5ECF6",
            "gridcolor": "white",
            "gridwidth": 2,
            "linecolor": "white",
            "showbackground": true,
            "ticks": "",
            "zerolinecolor": "white"
           },
           "zaxis": {
            "backgroundcolor": "#E5ECF6",
            "gridcolor": "white",
            "gridwidth": 2,
            "linecolor": "white",
            "showbackground": true,
            "ticks": "",
            "zerolinecolor": "white"
           }
          },
          "shapedefaults": {
           "line": {
            "color": "#2a3f5f"
           }
          },
          "ternary": {
           "aaxis": {
            "gridcolor": "white",
            "linecolor": "white",
            "ticks": ""
           },
           "baxis": {
            "gridcolor": "white",
            "linecolor": "white",
            "ticks": ""
           },
           "bgcolor": "#E5ECF6",
           "caxis": {
            "gridcolor": "white",
            "linecolor": "white",
            "ticks": ""
           }
          },
          "title": {
           "x": 0.05
          },
          "xaxis": {
           "automargin": true,
           "gridcolor": "white",
           "linecolor": "white",
           "ticks": "",
           "title": {
            "standoff": 15
           },
           "zerolinecolor": "white",
           "zerolinewidth": 2
          },
          "yaxis": {
           "automargin": true,
           "gridcolor": "white",
           "linecolor": "white",
           "ticks": "",
           "title": {
            "standoff": 15
           },
           "zerolinecolor": "white",
           "zerolinewidth": 2
          }
         }
        }
       }
      }
     },
     "metadata": {}
    }
   ],
   "source": [
    "fig = go.Figure()\n",
    "\n",
    "fig.add_trace(\n",
    "    go.Scatter(\n",
    "        name='real',\n",
    "        x=df2.iloc[-40:,:]['TRANDATE'],\n",
    "        y=real.flatten()\n",
    "    )\n",
    ")\n",
    "\n",
    "fig.add_trace(\n",
    "    go.Scatter(\n",
    "        name='pred',\n",
    "        x=df2.iloc[-40:,:]['TRANDATE'],\n",
    "        y=pred.flatten()\n",
    "    )\n",
    ")\n",
    "fig.show()"
   ]
  },
  {
   "cell_type": "code",
   "execution_count": null,
   "metadata": {},
   "outputs": [],
   "source": []
  },
  {
   "cell_type": "code",
   "execution_count": 26,
   "metadata": {},
   "outputs": [
    {
     "output_type": "execute_result",
     "data": {
      "text/plain": "137520144.3846154"
     },
     "metadata": {},
     "execution_count": 26
    }
   ],
   "source": [
    "mean_absolute_error(real[:-2], pred[:-2])"
   ]
  },
  {
   "cell_type": "code",
   "execution_count": null,
   "metadata": {},
   "outputs": [],
   "source": []
  }
 ]
}